{
  "nbformat": 4,
  "nbformat_minor": 0,
  "metadata": {
    "colab": {
      "name": "credit card.ipynb",
      "provenance": [],
      "collapsed_sections": []
    },
    "kernelspec": {
      "name": "python3",
      "display_name": "Python 3"
    },
    "language_info": {
      "name": "python"
    }
  },
  "cells": [
    {
      "cell_type": "code",
      "metadata": {
        "id": "3e-g8O6BZjYD"
      },
      "source": [
        "#importing neccessary libraries for eda\n",
        "import numpy as np\n",
        "import pandas as pd \n",
        "import sklearn \n",
        "import os\n",
        "import matplotlib.pyplot as plt\n",
        "import zipfile\n",
        "import tqdm \n",
        "from tqdm import tqdm\n",
        "import warnings\n",
        "warnings.filterwarnings(\"ignore\")\n",
        "import seaborn as sns\n",
        "import scipy\n"
      ],
      "execution_count": 48,
      "outputs": []
    },
    {
      "cell_type": "markdown",
      "metadata": {
        "id": "GpwMNjAMnU8q"
      },
      "source": [
        "## reading the data\n"
      ]
    },
    {
      "cell_type": "code",
      "metadata": {
        "id": "_ccMV34ZmHvF"
      },
      "source": [
        "train_data=pd.read_csv('/content/drive/MyDrive/train_s3TEQDk.csv')"
      ],
      "execution_count": 49,
      "outputs": []
    },
    {
      "cell_type": "markdown",
      "metadata": {
        "id": "Dq4dCRUand76"
      },
      "source": [
        "##  EDA (Exploratory Data Analysis)¶"
      ]
    },
    {
      "cell_type": "code",
      "metadata": {
        "colab": {
          "base_uri": "https://localhost:8080/",
          "height": 197
        },
        "id": "WI2sWofomNEZ",
        "outputId": "4795882f-d357-48a6-ae26-075e176da714"
      },
      "source": [
        "train_data.head()"
      ],
      "execution_count": 50,
      "outputs": [
        {
          "output_type": "execute_result",
          "data": {
            "text/html": [
              "<div>\n",
              "<style scoped>\n",
              "    .dataframe tbody tr th:only-of-type {\n",
              "        vertical-align: middle;\n",
              "    }\n",
              "\n",
              "    .dataframe tbody tr th {\n",
              "        vertical-align: top;\n",
              "    }\n",
              "\n",
              "    .dataframe thead th {\n",
              "        text-align: right;\n",
              "    }\n",
              "</style>\n",
              "<table border=\"1\" class=\"dataframe\">\n",
              "  <thead>\n",
              "    <tr style=\"text-align: right;\">\n",
              "      <th></th>\n",
              "      <th>ID</th>\n",
              "      <th>Gender</th>\n",
              "      <th>Age</th>\n",
              "      <th>Region_Code</th>\n",
              "      <th>Occupation</th>\n",
              "      <th>Channel_Code</th>\n",
              "      <th>Vintage</th>\n",
              "      <th>Credit_Product</th>\n",
              "      <th>Avg_Account_Balance</th>\n",
              "      <th>Is_Active</th>\n",
              "      <th>Is_Lead</th>\n",
              "    </tr>\n",
              "  </thead>\n",
              "  <tbody>\n",
              "    <tr>\n",
              "      <th>0</th>\n",
              "      <td>NNVBBKZB</td>\n",
              "      <td>Female</td>\n",
              "      <td>73</td>\n",
              "      <td>RG268</td>\n",
              "      <td>Other</td>\n",
              "      <td>X3</td>\n",
              "      <td>43</td>\n",
              "      <td>No</td>\n",
              "      <td>1045696</td>\n",
              "      <td>No</td>\n",
              "      <td>0</td>\n",
              "    </tr>\n",
              "    <tr>\n",
              "      <th>1</th>\n",
              "      <td>IDD62UNG</td>\n",
              "      <td>Female</td>\n",
              "      <td>30</td>\n",
              "      <td>RG277</td>\n",
              "      <td>Salaried</td>\n",
              "      <td>X1</td>\n",
              "      <td>32</td>\n",
              "      <td>No</td>\n",
              "      <td>581988</td>\n",
              "      <td>No</td>\n",
              "      <td>0</td>\n",
              "    </tr>\n",
              "    <tr>\n",
              "      <th>2</th>\n",
              "      <td>HD3DSEMC</td>\n",
              "      <td>Female</td>\n",
              "      <td>56</td>\n",
              "      <td>RG268</td>\n",
              "      <td>Self_Employed</td>\n",
              "      <td>X3</td>\n",
              "      <td>26</td>\n",
              "      <td>No</td>\n",
              "      <td>1484315</td>\n",
              "      <td>Yes</td>\n",
              "      <td>0</td>\n",
              "    </tr>\n",
              "    <tr>\n",
              "      <th>3</th>\n",
              "      <td>BF3NC7KV</td>\n",
              "      <td>Male</td>\n",
              "      <td>34</td>\n",
              "      <td>RG270</td>\n",
              "      <td>Salaried</td>\n",
              "      <td>X1</td>\n",
              "      <td>19</td>\n",
              "      <td>No</td>\n",
              "      <td>470454</td>\n",
              "      <td>No</td>\n",
              "      <td>0</td>\n",
              "    </tr>\n",
              "    <tr>\n",
              "      <th>4</th>\n",
              "      <td>TEASRWXV</td>\n",
              "      <td>Female</td>\n",
              "      <td>30</td>\n",
              "      <td>RG282</td>\n",
              "      <td>Salaried</td>\n",
              "      <td>X1</td>\n",
              "      <td>33</td>\n",
              "      <td>No</td>\n",
              "      <td>886787</td>\n",
              "      <td>No</td>\n",
              "      <td>0</td>\n",
              "    </tr>\n",
              "  </tbody>\n",
              "</table>\n",
              "</div>"
            ],
            "text/plain": [
              "         ID  Gender  Age  ... Avg_Account_Balance Is_Active Is_Lead\n",
              "0  NNVBBKZB  Female   73  ...             1045696        No       0\n",
              "1  IDD62UNG  Female   30  ...              581988        No       0\n",
              "2  HD3DSEMC  Female   56  ...             1484315       Yes       0\n",
              "3  BF3NC7KV    Male   34  ...              470454        No       0\n",
              "4  TEASRWXV  Female   30  ...              886787        No       0\n",
              "\n",
              "[5 rows x 11 columns]"
            ]
          },
          "metadata": {
            "tags": []
          },
          "execution_count": 50
        }
      ]
    },
    {
      "cell_type": "code",
      "metadata": {
        "colab": {
          "base_uri": "https://localhost:8080/"
        },
        "id": "qHGKKmakmglE",
        "outputId": "f8158075-c450-456e-9669-77268f040836"
      },
      "source": [
        "train_data.columns"
      ],
      "execution_count": 51,
      "outputs": [
        {
          "output_type": "execute_result",
          "data": {
            "text/plain": [
              "Index(['ID', 'Gender', 'Age', 'Region_Code', 'Occupation', 'Channel_Code',\n",
              "       'Vintage', 'Credit_Product', 'Avg_Account_Balance', 'Is_Active',\n",
              "       'Is_Lead'],\n",
              "      dtype='object')"
            ]
          },
          "metadata": {
            "tags": []
          },
          "execution_count": 51
        }
      ]
    },
    {
      "cell_type": "code",
      "metadata": {
        "colab": {
          "base_uri": "https://localhost:8080/"
        },
        "id": "-7KZjhi3nnkB",
        "outputId": "c750586d-5ecb-48c5-ad1b-a3ec89bbef1a"
      },
      "source": [
        "train_data.shape"
      ],
      "execution_count": 52,
      "outputs": [
        {
          "output_type": "execute_result",
          "data": {
            "text/plain": [
              "(245725, 11)"
            ]
          },
          "metadata": {
            "tags": []
          },
          "execution_count": 52
        }
      ]
    },
    {
      "cell_type": "code",
      "metadata": {
        "colab": {
          "base_uri": "https://localhost:8080/"
        },
        "id": "LmnmbmEmnrgg",
        "outputId": "23a9a4b4-b7a7-4ed6-feb3-2095b73a4520"
      },
      "source": [
        "train_data.info()"
      ],
      "execution_count": 53,
      "outputs": [
        {
          "output_type": "stream",
          "text": [
            "<class 'pandas.core.frame.DataFrame'>\n",
            "RangeIndex: 245725 entries, 0 to 245724\n",
            "Data columns (total 11 columns):\n",
            " #   Column               Non-Null Count   Dtype \n",
            "---  ------               --------------   ----- \n",
            " 0   ID                   245725 non-null  object\n",
            " 1   Gender               245725 non-null  object\n",
            " 2   Age                  245725 non-null  int64 \n",
            " 3   Region_Code          245725 non-null  object\n",
            " 4   Occupation           245725 non-null  object\n",
            " 5   Channel_Code         245725 non-null  object\n",
            " 6   Vintage              245725 non-null  int64 \n",
            " 7   Credit_Product       216400 non-null  object\n",
            " 8   Avg_Account_Balance  245725 non-null  int64 \n",
            " 9   Is_Active            245725 non-null  object\n",
            " 10  Is_Lead              245725 non-null  int64 \n",
            "dtypes: int64(4), object(7)\n",
            "memory usage: 20.6+ MB\n"
          ],
          "name": "stdout"
        }
      ]
    },
    {
      "cell_type": "markdown",
      "metadata": {
        "id": "Vg1xzxCin1WD"
      },
      "source": [
        "### Target class distribution"
      ]
    },
    {
      "cell_type": "code",
      "metadata": {
        "colab": {
          "base_uri": "https://localhost:8080/"
        },
        "id": "-Wo1aH4Mn2e_",
        "outputId": "54d176eb-20df-4a66-eaca-f4ad8dd8a9ac"
      },
      "source": [
        "train_data['Is_Lead'].value_counts()"
      ],
      "execution_count": 54,
      "outputs": [
        {
          "output_type": "execute_result",
          "data": {
            "text/plain": [
              "0    187437\n",
              "1     58288\n",
              "Name: Is_Lead, dtype: int64"
            ]
          },
          "metadata": {
            "tags": []
          },
          "execution_count": 54
        }
      ]
    },
    {
      "cell_type": "code",
      "metadata": {
        "colab": {
          "base_uri": "https://localhost:8080/",
          "height": 354
        },
        "id": "qeNYaQTTn5eQ",
        "outputId": "01ea0eec-b556-4a44-9df8-e3b3445ce337"
      },
      "source": [
        "ax=sns.set(style=\"whitegrid\")\n",
        "plt.figure(figsize=(8,5))\n",
        "total = float(len(train_data))\n",
        "ax = sns.countplot(x=\"Is_Lead\", hue=\"Is_Lead\", data=train_data)\n",
        "plt.title(\"Distribution of output class\")\n",
        "for p in ax.patches:\n",
        "    percentage = '{:.1f}%'.format(100 * p.get_height()/total)\n",
        "    x = p.get_x() + p.get_width()\n",
        "    y = p.get_height()\n",
        "    ax.annotate(percentage, (x, y),ha='center')\n",
        "plt.show()"
      ],
      "execution_count": 55,
      "outputs": [
        {
          "output_type": "display_data",
          "data": {
            "image/png": "[encoded data removed]",
            "text/plain": [
              "<Figure size 576x360 with 1 Axes>"
            ]
          },
          "metadata": {
            "tags": []
          }
        }
      ]
    },
    {
      "cell_type": "markdown",
      "metadata": {
        "id": "L6SDqegkolOG"
      },
      "source": [
        "### \n",
        "Duplicate checks"
      ]
    },
    {
      "cell_type": "code",
      "metadata": {
        "colab": {
          "base_uri": "https://localhost:8080/"
        },
        "id": "4h6JgDSyomtF",
        "outputId": "3d036f33-3020-438a-9c87-8eb032a87c3f"
      },
      "source": [
        "print(\"Number of duplicate in train dataset : {} \".format(sum(train_data.duplicated())))"
      ],
      "execution_count": 56,
      "outputs": [
        {
          "output_type": "stream",
          "text": [
            "Number of duplicate in train dataset : 0 \n"
          ],
          "name": "stdout"
        }
      ]
    },
    {
      "cell_type": "code",
      "metadata": {
        "colab": {
          "base_uri": "https://localhost:8080/"
        },
        "id": "7sdnsFiDorKG",
        "outputId": "f2d54185-4d8f-4306-f36e-784794e3ff10"
      },
      "source": [
        "print(\"We have {} NaN/Null values in train dataset \".format(train_data.isnull().values.sum()))\n"
      ],
      "execution_count": 57,
      "outputs": [
        {
          "output_type": "stream",
          "text": [
            "We have 29325 NaN/Null values in train dataset \n"
          ],
          "name": "stdout"
        }
      ]
    },
    {
      "cell_type": "markdown",
      "metadata": {
        "id": "RPOgBnGcqJVb"
      },
      "source": [
        "* There is a large number of NaN/Null values are present in both train dataset since  large in count dropping the row is not good because we are reducing actual data in a large amount.\n",
        "* We want to consider some imputation method to fill the values."
      ]
    },
    {
      "cell_type": "code",
      "metadata": {
        "colab": {
          "base_uri": "https://localhost:8080/"
        },
        "id": "VQjg28oDpP9G",
        "outputId": "fe6eb2b9-9dfb-4e9b-a577-affb98181cd2"
      },
      "source": [
        "print(train_data.isna().sum())"
      ],
      "execution_count": 58,
      "outputs": [
        {
          "output_type": "stream",
          "text": [
            "ID                         0\n",
            "Gender                     0\n",
            "Age                        0\n",
            "Region_Code                0\n",
            "Occupation                 0\n",
            "Channel_Code               0\n",
            "Vintage                    0\n",
            "Credit_Product         29325\n",
            "Avg_Account_Balance        0\n",
            "Is_Active                  0\n",
            "Is_Lead                    0\n",
            "dtype: int64\n"
          ],
          "name": "stdout"
        }
      ]
    },
    {
      "cell_type": "markdown",
      "metadata": {
        "id": "tHK7cU9Iq4yV"
      },
      "source": [
        "### Handling missing values"
      ]
    },
    {
      "cell_type": "code",
      "metadata": {
        "colab": {
          "base_uri": "https://localhost:8080/"
        },
        "id": "sH-X-i9_qbT7",
        "outputId": "b0172bb9-570e-453a-d323-3ef8a7b3774d"
      },
      "source": [
        "train_data['Credit_Product'].value_counts()"
      ],
      "execution_count": 59,
      "outputs": [
        {
          "output_type": "execute_result",
          "data": {
            "text/plain": [
              "No     144357\n",
              "Yes     72043\n",
              "Name: Credit_Product, dtype: int64"
            ]
          },
          "metadata": {
            "tags": []
          },
          "execution_count": 59
        }
      ]
    },
    {
      "cell_type": "code",
      "metadata": {
        "id": "7CRut5vM16dA"
      },
      "source": [
        "#train_data['Credit_Product'].fillna(train_data['Credit_Product'].mode()[0], inplace=True) #Mode based imputation\n",
        "train_data['Credit_Product'].fillna(\"yn\", inplace=True) # Make Null/Nan value as seperate category\n",
        "#train_data.dropna(axis = 1, how ='all', inplace = True)# dropping the null values"
      ],
      "execution_count": 60,
      "outputs": []
    },
    {
      "cell_type": "code",
      "metadata": {
        "colab": {
          "base_uri": "https://localhost:8080/"
        },
        "id": "bLPENO4h2wQb",
        "outputId": "0af6a4d4-cc72-4e0c-fb7b-5ae985fa9161"
      },
      "source": [
        "print(train_data.isna().sum())"
      ],
      "execution_count": 61,
      "outputs": [
        {
          "output_type": "stream",
          "text": [
            "ID                     0\n",
            "Gender                 0\n",
            "Age                    0\n",
            "Region_Code            0\n",
            "Occupation             0\n",
            "Channel_Code           0\n",
            "Vintage                0\n",
            "Credit_Product         0\n",
            "Avg_Account_Balance    0\n",
            "Is_Active              0\n",
            "Is_Lead                0\n",
            "dtype: int64\n"
          ],
          "name": "stdout"
        }
      ]
    },
    {
      "cell_type": "markdown",
      "metadata": {
        "id": "ueW_wBec28Hf"
      },
      "source": [
        "### \n",
        "Plotting Based Analysis"
      ]
    },
    {
      "cell_type": "code",
      "metadata": {
        "colab": {
          "base_uri": "https://localhost:8080/"
        },
        "id": "qKW3y5302ysj",
        "outputId": "b0858b7e-0885-476e-bf69-51cdf79f9bb8"
      },
      "source": [
        "train_data.nunique()"
      ],
      "execution_count": 62,
      "outputs": [
        {
          "output_type": "execute_result",
          "data": {
            "text/plain": [
              "ID                     245725\n",
              "Gender                      2\n",
              "Age                        63\n",
              "Region_Code                35\n",
              "Occupation                  4\n",
              "Channel_Code                4\n",
              "Vintage                    66\n",
              "Credit_Product              3\n",
              "Avg_Account_Balance    135292\n",
              "Is_Active                   2\n",
              "Is_Lead                     2\n",
              "dtype: int64"
            ]
          },
          "metadata": {
            "tags": []
          },
          "execution_count": 62
        }
      ]
    },
    {
      "cell_type": "code",
      "metadata": {
        "colab": {
          "base_uri": "https://localhost:8080/",
          "height": 577
        },
        "id": "ZoQxbDfX2_8F",
        "outputId": "104b4627-a87b-4476-86de-c4619e2fe68f"
      },
      "source": [
        "plt.figure(figsize=(20,10))\n",
        "sns.countplot(x='Gender',hue='Is_Lead',data=train_data)"
      ],
      "execution_count": 63,
      "outputs": [
        {
          "output_type": "execute_result",
          "data": {
            "text/plain": [
              "<matplotlib.axes._subplots.AxesSubplot at 0x7f9ab861d290>"
            ]
          },
          "metadata": {
            "tags": []
          },
          "execution_count": 63
        },
        {
          "output_type": "display_data",
          "data": {
            "image/png": "[encoded data removed]",
            "text/plain": [
              "<Figure size 1440x720 with 1 Axes>"
            ]
          },
          "metadata": {
            "tags": []
          }
        }
      ]
    },
    {
      "cell_type": "code",
      "metadata": {
        "colab": {
          "base_uri": "https://localhost:8080/",
          "height": 580
        },
        "id": "RielNdzU4Ncx",
        "outputId": "9321e4fe-de68-4134-9923-b7b9c96d0711"
      },
      "source": [
        "plt.figure(figsize=(20,10))\n",
        "sns.countplot(x='Region_Code',hue='Is_Lead',data=train_data)"
      ],
      "execution_count": 64,
      "outputs": [
        {
          "output_type": "execute_result",
          "data": {
            "text/plain": [
              "<matplotlib.axes._subplots.AxesSubplot at 0x7f9ab8607910>"
            ]
          },
          "metadata": {
            "tags": []
          },
          "execution_count": 64
        },
        {
          "output_type": "display_data",
          "data": {
            "image/png": "[encoded data removed]",
            "text/plain": [
              "<Figure size 1440x720 with 1 Axes>"
            ]
          },
          "metadata": {
            "tags": []
          }
        }
      ]
    },
    {
      "cell_type": "code",
      "metadata": {
        "colab": {
          "base_uri": "https://localhost:8080/",
          "height": 582
        },
        "id": "3bKXME004g74",
        "outputId": "6133268e-43c1-4431-8bfb-447ff200499c"
      },
      "source": [
        "plt.figure(figsize=(20,10))\n",
        "sns.countplot(x='Occupation',hue='Is_Lead',data=train_data)"
      ],
      "execution_count": 65,
      "outputs": [
        {
          "output_type": "execute_result",
          "data": {
            "text/plain": [
              "<matplotlib.axes._subplots.AxesSubplot at 0x7f9ab8538f10>"
            ]
          },
          "metadata": {
            "tags": []
          },
          "execution_count": 65
        },
        {
          "output_type": "display_data",
          "data": {
            "image/png": "[encoded data removed]",
            "text/plain": [
              "<Figure size 1440x720 with 1 Axes>"
            ]
          },
          "metadata": {
            "tags": []
          }
        }
      ]
    },
    {
      "cell_type": "code",
      "metadata": {
        "colab": {
          "base_uri": "https://localhost:8080/",
          "height": 581
        },
        "id": "p9ocCCZ_4tiY",
        "outputId": "511f89a3-9e02-4631-91ed-1371fa591195"
      },
      "source": [
        "plt.figure(figsize=(20,10))\n",
        "sns.countplot(x='Channel_Code',hue='Is_Lead',data=train_data)"
      ],
      "execution_count": 66,
      "outputs": [
        {
          "output_type": "execute_result",
          "data": {
            "text/plain": [
              "<matplotlib.axes._subplots.AxesSubplot at 0x7f9ab85f7a50>"
            ]
          },
          "metadata": {
            "tags": []
          },
          "execution_count": 66
        },
        {
          "output_type": "display_data",
          "data": {
            "image/png": "[encoded data removed]",
            "text/plain": [
              "<Figure size 1440x720 with 1 Axes>"
            ]
          },
          "metadata": {
            "tags": []
          }
        }
      ]
    },
    {
      "cell_type": "code",
      "metadata": {
        "colab": {
          "base_uri": "https://localhost:8080/",
          "height": 580
        },
        "id": "4OyFnp3349FY",
        "outputId": "3045b497-8482-4e2a-c3ab-ca5f8c5ae377"
      },
      "source": [
        "plt.figure(figsize=(20,10))\n",
        "sns.countplot(x='Credit_Product',hue='Is_Lead',data=train_data)"
      ],
      "execution_count": 67,
      "outputs": [
        {
          "output_type": "execute_result",
          "data": {
            "text/plain": [
              "<matplotlib.axes._subplots.AxesSubplot at 0x7f9ab83f6ed0>"
            ]
          },
          "metadata": {
            "tags": []
          },
          "execution_count": 67
        },
        {
          "output_type": "display_data",
          "data": {
            "image/png": "[encoded data removed]",
            "text/plain": [
              "<Figure size 1440x720 with 1 Axes>"
            ]
          },
          "metadata": {
            "tags": []
          }
        }
      ]
    },
    {
      "cell_type": "code",
      "metadata": {
        "colab": {
          "base_uri": "https://localhost:8080/",
          "height": 577
        },
        "id": "_uKxkQ_x5Vw3",
        "outputId": "10c686fa-603c-4155-a3d6-228956256331"
      },
      "source": [
        "plt.figure(figsize=(20,10))\n",
        "sns.countplot(x='Is_Active',hue='Is_Lead',data=train_data)"
      ],
      "execution_count": 68,
      "outputs": [
        {
          "output_type": "execute_result",
          "data": {
            "text/plain": [
              "<matplotlib.axes._subplots.AxesSubplot at 0x7f9ab83f6950>"
            ]
          },
          "metadata": {
            "tags": []
          },
          "execution_count": 68
        },
        {
          "output_type": "display_data",
          "data": {
            "image/png": "[encoded data removed]",
            "text/plain": [
              "<Figure size 1440x720 with 1 Axes>"
            ]
          },
          "metadata": {
            "tags": []
          }
        }
      ]
    },
    {
      "cell_type": "code",
      "metadata": {
        "colab": {
          "base_uri": "https://localhost:8080/",
          "height": 628
        },
        "id": "cYCgNX4n5_vN",
        "outputId": "e08c38fb-ed1d-407b-8011-d2e8dae71b88"
      },
      "source": [
        "plt.figure(figsize=(15,10))\n",
        "sns.distplot(train_data['Age'], label='Train data')"
      ],
      "execution_count": 69,
      "outputs": [
        {
          "output_type": "execute_result",
          "data": {
            "text/plain": [
              "<matplotlib.axes._subplots.AxesSubplot at 0x7f9ab82f6150>"
            ]
          },
          "metadata": {
            "tags": []
          },
          "execution_count": 69
        },
        {
          "output_type": "display_data",
          "data": {
            "image/png": "[encoded data removed]",
            "text/plain": [
              "<Figure size 1080x720 with 1 Axes>"
            ]
          },
          "metadata": {
            "tags": []
          }
        }
      ]
    },
    {
      "cell_type": "code",
      "metadata": {
        "colab": {
          "base_uri": "https://localhost:8080/",
          "height": 502
        },
        "id": "Qmki65ql7Xaz",
        "outputId": "c36dda5d-87e1-4fab-b0b2-ce51cf41d7b5"
      },
      "source": [
        "\n",
        "plt.figure(figsize=(10,8))\n",
        "sns.boxplot(x='Is_Lead', y='Age', data=train_data)\n",
        "plt.ylabel(\"age\", fontsize=12)\n",
        "plt.xlabel(\"Is_Lead\", fontsize=12)\n",
        "plt.show()"
      ],
      "execution_count": 70,
      "outputs": [
        {
          "output_type": "display_data",
          "data": {
            "image/png": "[encoded data removed]",
            "text/plain": [
              "<Figure size 720x576 with 1 Axes>"
            ]
          },
          "metadata": {
            "tags": []
          }
        }
      ]
    },
    {
      "cell_type": "code",
      "metadata": {
        "colab": {
          "base_uri": "https://localhost:8080/",
          "height": 628
        },
        "id": "KRDSS28O7peL",
        "outputId": "e070fe6f-88b5-4319-d2f2-8425765490c3"
      },
      "source": [
        "plt.figure(figsize=(15,10))\n",
        "sns.distplot(train_data['Vintage'], label='Train data')"
      ],
      "execution_count": 71,
      "outputs": [
        {
          "output_type": "execute_result",
          "data": {
            "text/plain": [
              "<matplotlib.axes._subplots.AxesSubplot at 0x7f9ab81b0650>"
            ]
          },
          "metadata": {
            "tags": []
          },
          "execution_count": 71
        },
        {
          "output_type": "display_data",
          "data": {
            "image/png": "[encoded data removed]",
            "text/plain": [
              "<Figure size 1080x720 with 1 Axes>"
            ]
          },
          "metadata": {
            "tags": []
          }
        }
      ]
    },
    {
      "cell_type": "code",
      "metadata": {
        "colab": {
          "base_uri": "https://localhost:8080/",
          "height": 502
        },
        "id": "_Bay9OGi7zyi",
        "outputId": "9dca6210-62a7-4bfb-8147-0fb695dc6784"
      },
      "source": [
        "plt.figure(figsize=(10,8))\n",
        "sns.boxplot(x='Is_Lead', y='Vintage', data=train_data)\n",
        "plt.ylabel(\"Vintage\", fontsize=12)\n",
        "plt.xlabel(\"Is_Lead\", fontsize=12)\n",
        "plt.show()"
      ],
      "execution_count": 72,
      "outputs": [
        {
          "output_type": "display_data",
          "data": {
            "image/png": "[encoded data removed]",
            "text/plain": [
              "<Figure size 720x576 with 1 Axes>"
            ]
          },
          "metadata": {
            "tags": []
          }
        }
      ]
    },
    {
      "cell_type": "code",
      "metadata": {
        "colab": {
          "base_uri": "https://localhost:8080/",
          "height": 640
        },
        "id": "wPl1UZrp78a5",
        "outputId": "ea258ed8-4c68-488c-b0ab-45e90e08b23c"
      },
      "source": [
        "plt.figure(figsize=(15,10))\n",
        "sns.distplot(train_data['Avg_Account_Balance'], label='Train data')"
      ],
      "execution_count": 73,
      "outputs": [
        {
          "output_type": "execute_result",
          "data": {
            "text/plain": [
              "<matplotlib.axes._subplots.AxesSubplot at 0x7f9ab80089d0>"
            ]
          },
          "metadata": {
            "tags": []
          },
          "execution_count": 73
        },
        {
          "output_type": "display_data",
          "data": {
            "image/png": "[encoded data removed]",
            "text/plain": [
              "<Figure size 1080x720 with 1 Axes>"
            ]
          },
          "metadata": {
            "tags": []
          }
        }
      ]
    },
    {
      "cell_type": "code",
      "metadata": {
        "colab": {
          "base_uri": "https://localhost:8080/",
          "height": 513
        },
        "id": "Vh4RXUqf8Jy9",
        "outputId": "af0bec84-654d-4cf4-b5eb-90c4d017066d"
      },
      "source": [
        "plt.figure(figsize=(10,8))\n",
        "sns.boxplot(x='Is_Lead', y='Avg_Account_Balance', data=train_data)\n",
        "plt.ylabel(\"Avg_Account_Balance\", fontsize=12)\n",
        "plt.xlabel(\"Is_Lead\", fontsize=12)\n",
        "plt.show()"
      ],
      "execution_count": 74,
      "outputs": [
        {
          "output_type": "display_data",
          "data": {
            "image/png": "[encoded data removed]",
            "text/plain": [
              "<Figure size 720x576 with 1 Axes>"
            ]
          },
          "metadata": {
            "tags": []
          }
        }
      ]
    },
    {
      "cell_type": "code",
      "metadata": {
        "id": "KqP8mTxw9yM2"
      },
      "source": [
        "def frequency_encoding(column_name,output_column_name,df):\n",
        "    \"\"\" Frequency enoding for each categories in categorical features \"\"\"\n",
        "    fe_pol = (df.groupby(column_name).size()) / len(df)\n",
        "    df[output_column_name] = df[column_name].apply(lambda x : fe_pol[x])"
      ],
      "execution_count": 75,
      "outputs": []
    },
    {
      "cell_type": "code",
      "metadata": {
        "colab": {
          "base_uri": "https://localhost:8080/"
        },
        "id": "D7LhWgvOkiMu",
        "outputId": "8b858eb0-eb98-4b45-da04-43f1e80cd843"
      },
      "source": [
        "train_data.columns"
      ],
      "execution_count": 76,
      "outputs": [
        {
          "output_type": "execute_result",
          "data": {
            "text/plain": [
              "Index(['ID', 'Gender', 'Age', 'Region_Code', 'Occupation', 'Channel_Code',\n",
              "       'Vintage', 'Credit_Product', 'Avg_Account_Balance', 'Is_Active',\n",
              "       'Is_Lead'],\n",
              "      dtype='object')"
            ]
          },
          "metadata": {
            "tags": []
          },
          "execution_count": 76
        }
      ]
    },
    {
      "cell_type": "code",
      "metadata": {
        "id": "7zofi5g9q4YY"
      },
      "source": [
        "from itertools import combinations"
      ],
      "execution_count": 77,
      "outputs": []
    },
    {
      "cell_type": "code",
      "metadata": {
        "id": "P81Zqq90jEwo"
      },
      "source": [
        "def feature_engineering(df):\n",
        "    cat_features=[]\n",
        "    \n",
        "    #Interaction Feature (Combining 2 categorical features and performing frequency encoding)\n",
        "    \n",
        "    columns=['Gender', 'Region_Code', 'Occupation', 'Channel_Code',\n",
        "        'Credit_Product', 'Is_Active']\n",
        "\n",
        "    comb = combinations(columns, 2) \n",
        "\n",
        "    for i in list(comb):  \n",
        "        df[f'{i[0]}_{i[1]}']=df[i[0]].astype(str)+'_'+df[i[1]].astype(str)\n",
        "        frequency_encoding(f'{i[0]}_{i[1]}',f'{i[0]}_{i[1]}',df)\n",
        "        cat_features.append(f'{i[0]}_{i[1]}')\n",
        "    \n",
        "    #Frequency Encoding\n",
        "    \n",
        "    frequency_encoding('Region_Code','Region_Code_fe',df)\n",
        "    frequency_encoding('Occupation','Occupation_fe',df)\n",
        "    frequency_encoding('Channel_Code','Channel_Code_fe',df)\n",
        "    \n",
        "    \n",
        "    #Deriving characteristics of each city by creating aggregate features\n",
        "    \n",
        "    region_aggregate_features = df.groupby(['Region_Code']).agg({'Age': ['mean', 'max', 'min','std'],\n",
        "                                                     'Vintage': ['mean', 'max', 'min','std','sum'], \n",
        "                                                     'Avg_Account_Balance': ['mean', 'max', 'min','std','sum'], \n",
        "                                                     'Channel_Code': ['nunique','count'], \n",
        "                                                     'Occupation': ['nunique','count'],\n",
        "                                                     })\n",
        "    region_aggregate_features.columns = ['Region_aggregate_features' + '_'.join(c).strip('_') for c in region_aggregate_features.columns]\n",
        "    df = pd.merge(df, region_aggregate_features, on = ['Region_Code'], how='left')\n",
        "\n",
        "    #Deriving characteristics of each city and region combined by creating aggregate features\n",
        "    \n",
        "    region_channel_aggregate_features = df.groupby(['Region_Code','Channel_Code']).agg({'Age': ['mean', 'max', 'min','std'],\n",
        "                                                     'Vintage': ['mean', 'max', 'min','std','sum'], \n",
        "                                                     'Avg_Account_Balance': ['mean', 'max', 'min','std','sum'], \n",
        "                                                     'Occupation': ['nunique','count'],\n",
        "                                                     })\n",
        "    region_channel_aggregate_features.columns = ['region_channel_aggregate_features' + '_'.join(c).strip('_') for c in region_channel_aggregate_features.columns]\n",
        "    df = pd.merge(df, region_channel_aggregate_features, on = ['Region_Code','Channel_Code'], how='left')\n",
        "\n",
        "     #Deriving characteristics of each city and Recommended policy category combined by creating aggregate features\n",
        "        \n",
        "    region_occupation_aggregate_features = df.groupby(['Region_Code','Occupation']).agg({'Age': ['mean', 'max', 'min','std'],\n",
        "                                                     'Vintage': ['mean', 'max', 'min','std','sum'], \n",
        "                                                     'Avg_Account_Balance': ['mean', 'max', 'min','std','sum'], \n",
        "                                                     'Channel_Code': ['nunique','count'], \n",
        "                                                     })\n",
        "    region_occupation_aggregate_features.columns = ['region_occupation_aggregate_features' + '_'.join(c).strip('_') for c in  region_occupation_aggregate_features.columns]\n",
        "    df = pd.merge(df, region_occupation_aggregate_features, on = ['Region_Code','Occupation'], how='left')\n",
        "\n",
        "    channel_occupation_aggregate_features = df.groupby(['Channel_Code','Occupation']).agg({'Age': ['mean', 'max', 'min','std'],\n",
        "                                                     'Vintage': ['mean', 'max', 'min','std','sum'], \n",
        "                                                     'Avg_Account_Balance': ['mean', 'max', 'min','std','sum'], \n",
        "                                                     'Region_Code': ['nunique','count'], \n",
        "                                                     })\n",
        "    channel_occupation_aggregate_features.columns = ['channel_occupation_aggregate_features' + '_'.join(c).strip('_') for c in  channel_occupation_aggregate_features.columns]\n",
        "    df = pd.merge(df, channel_occupation_aggregate_features, on = ['Channel_Code','Occupation'], how='left')\n",
        "    \n",
        "     #Deriving characteristics of each city and Region_Code_Reco_Policy_Cat(interaction feature) combined by creating aggregate features\n",
        "\n",
        "\n",
        "    \n",
        "    occupation_aggregate_features = df.groupby(['Occupation']).agg({'Age': ['mean', 'max', 'min','std'],\n",
        "                                                     'Vintage': ['mean', 'max', 'min','std','sum'], \n",
        "                                                     'Avg_Account_Balance': ['mean', 'max', 'min','std','sum'], \n",
        "                                                     'Channel_Code': ['nunique','count'], \n",
        "                                                     'Region_Code': ['nunique','count'],\n",
        "                                                     })\n",
        "    occupation_aggregate_features.columns = ['occupation_aggregate_features' + '_'.join(c).strip('_') for c in occupation_aggregate_features.columns]\n",
        "    df = pd.merge(df,occupation_aggregate_features, on = ['Occupation'], how='left')\n",
        "    \n",
        "    #Deriving characteristics of Health Indicator by creating aggregate features\n",
        "    \n",
        "    \n",
        "    for i in cat_features:\n",
        "        df[f'region_{i}_max']=df.groupby('Region_Code')[i].transform('max')\n",
        "        df[f'region_{i}_min']=df.groupby('Region_Code')[i].transform('min')\n",
        "        df[f'region_{i}_mean']=df.groupby('Region_Code')[i].transform('mean')\n",
        "        df[f'region_{i}_std']=df.groupby('Region_Code')[i].transform('std')\n",
        "\n",
        "    \n",
        "        df[f'channel_region_{i}_max']=df.groupby(['Region_Code','Channel_Code'])[i].transform('max')\n",
        "        df[f'channel_region_{i}_min']=df.groupby(['Region_Code','Channel_Code'])[i].transform('min')\n",
        "        df[f'channel_region_{i}_mean']=df.groupby(['Region_Code','Channel_Code'])[i].transform('mean')\n",
        "        df[f'channel_region_{i}_std']=df.groupby(['Region_Code','Channel_Code'])[i].transform('std')\n",
        "\n",
        "    \n",
        "        df[f'region_occupation_{i}_max']=df.groupby(['Region_Code','Occupation'])[i].transform('max')\n",
        "        df[f'region_occupation_{i}_min']=df.groupby(['Region_Code','Occupation'])[i].transform('min')\n",
        "        df[f'region_occupation_{i}_mean']=df.groupby(['Region_Code','Occupation'])[i].transform('mean')\n",
        "        df[f'region_occupation_{i}_std']=df.groupby(['Region_Code','Occupation'])[i].transform('std')\n",
        "        \n",
        "    return df,cat_features"
      ],
      "execution_count": 78,
      "outputs": []
    },
    {
      "cell_type": "code",
      "metadata": {
        "id": "_4TNhkxZqlbw"
      },
      "source": [
        "data,cat=feature_engineering(train_data)"
      ],
      "execution_count": 79,
      "outputs": []
    },
    {
      "cell_type": "code",
      "metadata": {
        "colab": {
          "base_uri": "https://localhost:8080/",
          "height": 246
        },
        "id": "WS-zoaFWqwOK",
        "outputId": "1da9ac1f-dc02-4487-aa12-39394f9c354b"
      },
      "source": [
        "data.head()"
      ],
      "execution_count": 80,
      "outputs": [
        {
          "output_type": "execute_result",
          "data": {
            "text/html": [
              "<div>\n",
              "<style scoped>\n",
              "    .dataframe tbody tr th:only-of-type {\n",
              "        vertical-align: middle;\n",
              "    }\n",
              "\n",
              "    .dataframe tbody tr th {\n",
              "        vertical-align: top;\n",
              "    }\n",
              "\n",
              "    .dataframe thead th {\n",
              "        text-align: right;\n",
              "    }\n",
              "</style>\n",
              "<table border=\"1\" class=\"dataframe\">\n",
              "  <thead>\n",
              "    <tr style=\"text-align: right;\">\n",
              "      <th></th>\n",
              "      <th>ID</th>\n",
              "      <th>Gender</th>\n",
              "      <th>Age</th>\n",
              "      <th>Region_Code</th>\n",
              "      <th>Occupation</th>\n",
              "      <th>Channel_Code</th>\n",
              "      <th>Vintage</th>\n",
              "      <th>Credit_Product</th>\n",
              "      <th>Avg_Account_Balance</th>\n",
              "      <th>Is_Active</th>\n",
              "      <th>Is_Lead</th>\n",
              "      <th>Gender_Region_Code</th>\n",
              "      <th>Gender_Occupation</th>\n",
              "      <th>Gender_Channel_Code</th>\n",
              "      <th>Gender_Credit_Product</th>\n",
              "      <th>Gender_Is_Active</th>\n",
              "      <th>Region_Code_Occupation</th>\n",
              "      <th>Region_Code_Channel_Code</th>\n",
              "      <th>Region_Code_Credit_Product</th>\n",
              "      <th>Region_Code_Is_Active</th>\n",
              "      <th>Occupation_Channel_Code</th>\n",
              "      <th>Occupation_Credit_Product</th>\n",
              "      <th>Occupation_Is_Active</th>\n",
              "      <th>Channel_Code_Credit_Product</th>\n",
              "      <th>Channel_Code_Is_Active</th>\n",
              "      <th>Credit_Product_Is_Active</th>\n",
              "      <th>Region_Code_fe</th>\n",
              "      <th>Occupation_fe</th>\n",
              "      <th>Channel_Code_fe</th>\n",
              "      <th>Region_aggregate_featuresAge_mean</th>\n",
              "      <th>Region_aggregate_featuresAge_max</th>\n",
              "      <th>Region_aggregate_featuresAge_min</th>\n",
              "      <th>Region_aggregate_featuresAge_std</th>\n",
              "      <th>Region_aggregate_featuresVintage_mean</th>\n",
              "      <th>Region_aggregate_featuresVintage_max</th>\n",
              "      <th>Region_aggregate_featuresVintage_min</th>\n",
              "      <th>Region_aggregate_featuresVintage_std</th>\n",
              "      <th>Region_aggregate_featuresVintage_sum</th>\n",
              "      <th>Region_aggregate_featuresAvg_Account_Balance_mean</th>\n",
              "      <th>Region_aggregate_featuresAvg_Account_Balance_max</th>\n",
              "      <th>...</th>\n",
              "      <th>region_occupation_Occupation_Is_Active_max</th>\n",
              "      <th>region_occupation_Occupation_Is_Active_min</th>\n",
              "      <th>region_occupation_Occupation_Is_Active_mean</th>\n",
              "      <th>region_occupation_Occupation_Is_Active_std</th>\n",
              "      <th>region_Channel_Code_Credit_Product_max</th>\n",
              "      <th>region_Channel_Code_Credit_Product_min</th>\n",
              "      <th>region_Channel_Code_Credit_Product_mean</th>\n",
              "      <th>region_Channel_Code_Credit_Product_std</th>\n",
              "      <th>channel_region_Channel_Code_Credit_Product_max</th>\n",
              "      <th>channel_region_Channel_Code_Credit_Product_min</th>\n",
              "      <th>channel_region_Channel_Code_Credit_Product_mean</th>\n",
              "      <th>channel_region_Channel_Code_Credit_Product_std</th>\n",
              "      <th>region_occupation_Channel_Code_Credit_Product_max</th>\n",
              "      <th>region_occupation_Channel_Code_Credit_Product_min</th>\n",
              "      <th>region_occupation_Channel_Code_Credit_Product_mean</th>\n",
              "      <th>region_occupation_Channel_Code_Credit_Product_std</th>\n",
              "      <th>region_Channel_Code_Is_Active_max</th>\n",
              "      <th>region_Channel_Code_Is_Active_min</th>\n",
              "      <th>region_Channel_Code_Is_Active_mean</th>\n",
              "      <th>region_Channel_Code_Is_Active_std</th>\n",
              "      <th>channel_region_Channel_Code_Is_Active_max</th>\n",
              "      <th>channel_region_Channel_Code_Is_Active_min</th>\n",
              "      <th>channel_region_Channel_Code_Is_Active_mean</th>\n",
              "      <th>channel_region_Channel_Code_Is_Active_std</th>\n",
              "      <th>region_occupation_Channel_Code_Is_Active_max</th>\n",
              "      <th>region_occupation_Channel_Code_Is_Active_min</th>\n",
              "      <th>region_occupation_Channel_Code_Is_Active_mean</th>\n",
              "      <th>region_occupation_Channel_Code_Is_Active_std</th>\n",
              "      <th>region_Credit_Product_Is_Active_max</th>\n",
              "      <th>region_Credit_Product_Is_Active_min</th>\n",
              "      <th>region_Credit_Product_Is_Active_mean</th>\n",
              "      <th>region_Credit_Product_Is_Active_std</th>\n",
              "      <th>channel_region_Credit_Product_Is_Active_max</th>\n",
              "      <th>channel_region_Credit_Product_Is_Active_min</th>\n",
              "      <th>channel_region_Credit_Product_Is_Active_mean</th>\n",
              "      <th>channel_region_Credit_Product_Is_Active_std</th>\n",
              "      <th>region_occupation_Credit_Product_Is_Active_max</th>\n",
              "      <th>region_occupation_Credit_Product_Is_Active_min</th>\n",
              "      <th>region_occupation_Credit_Product_Is_Active_mean</th>\n",
              "      <th>region_occupation_Credit_Product_Is_Active_std</th>\n",
              "    </tr>\n",
              "  </thead>\n",
              "  <tbody>\n",
              "    <tr>\n",
              "      <th>0</th>\n",
              "      <td>NNVBBKZB</td>\n",
              "      <td>Female</td>\n",
              "      <td>73</td>\n",
              "      <td>RG268</td>\n",
              "      <td>Other</td>\n",
              "      <td>X3</td>\n",
              "      <td>43</td>\n",
              "      <td>No</td>\n",
              "      <td>1045696</td>\n",
              "      <td>No</td>\n",
              "      <td>0</td>\n",
              "      <td>0.064641</td>\n",
              "      <td>0.123809</td>\n",
              "      <td>0.108866</td>\n",
              "      <td>0.285588</td>\n",
              "      <td>0.293177</td>\n",
              "      <td>0.046418</td>\n",
              "      <td>0.058875</td>\n",
              "      <td>0.072614</td>\n",
              "      <td>0.073704</td>\n",
              "      <td>0.104023</td>\n",
              "      <td>0.160444</td>\n",
              "      <td>0.168473</td>\n",
              "      <td>0.119170</td>\n",
              "      <td>0.137218</td>\n",
              "      <td>0.344971</td>\n",
              "      <td>0.146237</td>\n",
              "      <td>0.285575</td>\n",
              "      <td>0.27963</td>\n",
              "      <td>49.039322</td>\n",
              "      <td>85</td>\n",
              "      <td>24</td>\n",
              "      <td>14.180870</td>\n",
              "      <td>59.197918</td>\n",
              "      <td>135</td>\n",
              "      <td>7</td>\n",
              "      <td>34.140736</td>\n",
              "      <td>2127218</td>\n",
              "      <td>1.463900e+06</td>\n",
              "      <td>10352009</td>\n",
              "      <td>...</td>\n",
              "      <td>0.168473</td>\n",
              "      <td>0.117102</td>\n",
              "      <td>0.143643</td>\n",
              "      <td>0.025672</td>\n",
              "      <td>0.327264</td>\n",
              "      <td>0.002914</td>\n",
              "      <td>0.139173</td>\n",
              "      <td>0.094332</td>\n",
              "      <td>0.119170</td>\n",
              "      <td>0.055823</td>\n",
              "      <td>0.100342</td>\n",
              "      <td>0.023533</td>\n",
              "      <td>0.327264</td>\n",
              "      <td>0.002914</td>\n",
              "      <td>0.129918</td>\n",
              "      <td>0.086028</td>\n",
              "      <td>0.328473</td>\n",
              "      <td>0.010573</td>\n",
              "      <td>0.159308</td>\n",
              "      <td>0.074182</td>\n",
              "      <td>0.142411</td>\n",
              "      <td>0.137218</td>\n",
              "      <td>0.139873</td>\n",
              "      <td>0.002596</td>\n",
              "      <td>0.328473</td>\n",
              "      <td>0.010573</td>\n",
              "      <td>0.157747</td>\n",
              "      <td>0.069951</td>\n",
              "      <td>0.344971</td>\n",
              "      <td>0.056571</td>\n",
              "      <td>0.206823</td>\n",
              "      <td>0.096720</td>\n",
              "      <td>0.344971</td>\n",
              "      <td>0.056571</td>\n",
              "      <td>0.186078</td>\n",
              "      <td>0.097664</td>\n",
              "      <td>0.344971</td>\n",
              "      <td>0.056571</td>\n",
              "      <td>0.203047</td>\n",
              "      <td>0.095986</td>\n",
              "    </tr>\n",
              "    <tr>\n",
              "      <th>1</th>\n",
              "      <td>IDD62UNG</td>\n",
              "      <td>Female</td>\n",
              "      <td>30</td>\n",
              "      <td>RG277</td>\n",
              "      <td>Salaried</td>\n",
              "      <td>X1</td>\n",
              "      <td>32</td>\n",
              "      <td>No</td>\n",
              "      <td>581988</td>\n",
              "      <td>No</td>\n",
              "      <td>0</td>\n",
              "      <td>0.024011</td>\n",
              "      <td>0.160733</td>\n",
              "      <td>0.236911</td>\n",
              "      <td>0.285588</td>\n",
              "      <td>0.293177</td>\n",
              "      <td>0.018061</td>\n",
              "      <td>0.025240</td>\n",
              "      <td>0.032915</td>\n",
              "      <td>0.035475</td>\n",
              "      <td>0.256470</td>\n",
              "      <td>0.213340</td>\n",
              "      <td>0.225268</td>\n",
              "      <td>0.327264</td>\n",
              "      <td>0.328473</td>\n",
              "      <td>0.344971</td>\n",
              "      <td>0.052197</td>\n",
              "      <td>0.293006</td>\n",
              "      <td>0.42209</td>\n",
              "      <td>41.754249</td>\n",
              "      <td>85</td>\n",
              "      <td>24</td>\n",
              "      <td>14.094754</td>\n",
              "      <td>42.484874</td>\n",
              "      <td>129</td>\n",
              "      <td>7</td>\n",
              "      <td>29.971752</td>\n",
              "      <td>544911</td>\n",
              "      <td>9.832893e+05</td>\n",
              "      <td>9491986</td>\n",
              "      <td>...</td>\n",
              "      <td>0.225268</td>\n",
              "      <td>0.067738</td>\n",
              "      <td>0.202125</td>\n",
              "      <td>0.055775</td>\n",
              "      <td>0.327264</td>\n",
              "      <td>0.002914</td>\n",
              "      <td>0.188533</td>\n",
              "      <td>0.117127</td>\n",
              "      <td>0.327264</td>\n",
              "      <td>0.012445</td>\n",
              "      <td>0.285507</td>\n",
              "      <td>0.094803</td>\n",
              "      <td>0.327264</td>\n",
              "      <td>0.002914</td>\n",
              "      <td>0.263409</td>\n",
              "      <td>0.110264</td>\n",
              "      <td>0.328473</td>\n",
              "      <td>0.010573</td>\n",
              "      <td>0.213489</td>\n",
              "      <td>0.100412</td>\n",
              "      <td>0.328473</td>\n",
              "      <td>0.093617</td>\n",
              "      <td>0.298709</td>\n",
              "      <td>0.078137</td>\n",
              "      <td>0.328473</td>\n",
              "      <td>0.010573</td>\n",
              "      <td>0.282353</td>\n",
              "      <td>0.089970</td>\n",
              "      <td>0.344971</td>\n",
              "      <td>0.056571</td>\n",
              "      <td>0.247839</td>\n",
              "      <td>0.103321</td>\n",
              "      <td>0.344971</td>\n",
              "      <td>0.056571</td>\n",
              "      <td>0.306074</td>\n",
              "      <td>0.071406</td>\n",
              "      <td>0.344971</td>\n",
              "      <td>0.056571</td>\n",
              "      <td>0.291001</td>\n",
              "      <td>0.087355</td>\n",
              "    </tr>\n",
              "    <tr>\n",
              "      <th>2</th>\n",
              "      <td>HD3DSEMC</td>\n",
              "      <td>Female</td>\n",
              "      <td>56</td>\n",
              "      <td>RG268</td>\n",
              "      <td>Self_Employed</td>\n",
              "      <td>X3</td>\n",
              "      <td>26</td>\n",
              "      <td>No</td>\n",
              "      <td>1484315</td>\n",
              "      <td>Yes</td>\n",
              "      <td>0</td>\n",
              "      <td>0.064641</td>\n",
              "      <td>0.165315</td>\n",
              "      <td>0.108866</td>\n",
              "      <td>0.285588</td>\n",
              "      <td>0.160696</td>\n",
              "      <td>0.072329</td>\n",
              "      <td>0.058875</td>\n",
              "      <td>0.072614</td>\n",
              "      <td>0.072532</td>\n",
              "      <td>0.150941</td>\n",
              "      <td>0.213682</td>\n",
              "      <td>0.198808</td>\n",
              "      <td>0.119170</td>\n",
              "      <td>0.142411</td>\n",
              "      <td>0.242503</td>\n",
              "      <td>0.146237</td>\n",
              "      <td>0.410565</td>\n",
              "      <td>0.27963</td>\n",
              "      <td>49.039322</td>\n",
              "      <td>85</td>\n",
              "      <td>24</td>\n",
              "      <td>14.180870</td>\n",
              "      <td>59.197918</td>\n",
              "      <td>135</td>\n",
              "      <td>7</td>\n",
              "      <td>34.140736</td>\n",
              "      <td>2127218</td>\n",
              "      <td>1.463900e+06</td>\n",
              "      <td>10352009</td>\n",
              "      <td>...</td>\n",
              "      <td>0.211757</td>\n",
              "      <td>0.198808</td>\n",
              "      <td>0.205006</td>\n",
              "      <td>0.006469</td>\n",
              "      <td>0.327264</td>\n",
              "      <td>0.002914</td>\n",
              "      <td>0.139173</td>\n",
              "      <td>0.094332</td>\n",
              "      <td>0.119170</td>\n",
              "      <td>0.055823</td>\n",
              "      <td>0.100342</td>\n",
              "      <td>0.023533</td>\n",
              "      <td>0.327264</td>\n",
              "      <td>0.002914</td>\n",
              "      <td>0.115909</td>\n",
              "      <td>0.066198</td>\n",
              "      <td>0.328473</td>\n",
              "      <td>0.010573</td>\n",
              "      <td>0.159308</td>\n",
              "      <td>0.074182</td>\n",
              "      <td>0.142411</td>\n",
              "      <td>0.137218</td>\n",
              "      <td>0.139873</td>\n",
              "      <td>0.002596</td>\n",
              "      <td>0.328473</td>\n",
              "      <td>0.010573</td>\n",
              "      <td>0.146781</td>\n",
              "      <td>0.054593</td>\n",
              "      <td>0.344971</td>\n",
              "      <td>0.056571</td>\n",
              "      <td>0.206823</td>\n",
              "      <td>0.096720</td>\n",
              "      <td>0.344971</td>\n",
              "      <td>0.056571</td>\n",
              "      <td>0.186078</td>\n",
              "      <td>0.097664</td>\n",
              "      <td>0.344971</td>\n",
              "      <td>0.056571</td>\n",
              "      <td>0.201982</td>\n",
              "      <td>0.095327</td>\n",
              "    </tr>\n",
              "    <tr>\n",
              "      <th>3</th>\n",
              "      <td>BF3NC7KV</td>\n",
              "      <td>Male</td>\n",
              "      <td>34</td>\n",
              "      <td>RG270</td>\n",
              "      <td>Salaried</td>\n",
              "      <td>X1</td>\n",
              "      <td>19</td>\n",
              "      <td>No</td>\n",
              "      <td>470454</td>\n",
              "      <td>No</td>\n",
              "      <td>0</td>\n",
              "      <td>0.015847</td>\n",
              "      <td>0.132274</td>\n",
              "      <td>0.185179</td>\n",
              "      <td>0.301886</td>\n",
              "      <td>0.318441</td>\n",
              "      <td>0.014614</td>\n",
              "      <td>0.022126</td>\n",
              "      <td>0.023193</td>\n",
              "      <td>0.024116</td>\n",
              "      <td>0.256470</td>\n",
              "      <td>0.213340</td>\n",
              "      <td>0.225268</td>\n",
              "      <td>0.327264</td>\n",
              "      <td>0.328473</td>\n",
              "      <td>0.344971</td>\n",
              "      <td>0.031417</td>\n",
              "      <td>0.293006</td>\n",
              "      <td>0.42209</td>\n",
              "      <td>37.058420</td>\n",
              "      <td>85</td>\n",
              "      <td>24</td>\n",
              "      <td>12.838280</td>\n",
              "      <td>30.048316</td>\n",
              "      <td>129</td>\n",
              "      <td>7</td>\n",
              "      <td>22.718368</td>\n",
              "      <td>231973</td>\n",
              "      <td>6.984567e+05</td>\n",
              "      <td>8086910</td>\n",
              "      <td>...</td>\n",
              "      <td>0.225268</td>\n",
              "      <td>0.067738</td>\n",
              "      <td>0.203071</td>\n",
              "      <td>0.054816</td>\n",
              "      <td>0.327264</td>\n",
              "      <td>0.002914</td>\n",
              "      <td>0.231791</td>\n",
              "      <td>0.117904</td>\n",
              "      <td>0.327264</td>\n",
              "      <td>0.012445</td>\n",
              "      <td>0.287996</td>\n",
              "      <td>0.092266</td>\n",
              "      <td>0.327264</td>\n",
              "      <td>0.002914</td>\n",
              "      <td>0.275017</td>\n",
              "      <td>0.103374</td>\n",
              "      <td>0.328473</td>\n",
              "      <td>0.010573</td>\n",
              "      <td>0.248434</td>\n",
              "      <td>0.103043</td>\n",
              "      <td>0.328473</td>\n",
              "      <td>0.093617</td>\n",
              "      <td>0.298452</td>\n",
              "      <td>0.078425</td>\n",
              "      <td>0.328473</td>\n",
              "      <td>0.010573</td>\n",
              "      <td>0.287816</td>\n",
              "      <td>0.087992</td>\n",
              "      <td>0.344971</td>\n",
              "      <td>0.056571</td>\n",
              "      <td>0.277431</td>\n",
              "      <td>0.089731</td>\n",
              "      <td>0.344971</td>\n",
              "      <td>0.056571</td>\n",
              "      <td>0.307681</td>\n",
              "      <td>0.067873</td>\n",
              "      <td>0.344971</td>\n",
              "      <td>0.056571</td>\n",
              "      <td>0.299532</td>\n",
              "      <td>0.077711</td>\n",
              "    </tr>\n",
              "    <tr>\n",
              "      <th>4</th>\n",
              "      <td>TEASRWXV</td>\n",
              "      <td>Female</td>\n",
              "      <td>30</td>\n",
              "      <td>RG282</td>\n",
              "      <td>Salaried</td>\n",
              "      <td>X1</td>\n",
              "      <td>33</td>\n",
              "      <td>No</td>\n",
              "      <td>886787</td>\n",
              "      <td>No</td>\n",
              "      <td>0</td>\n",
              "      <td>0.010520</td>\n",
              "      <td>0.160733</td>\n",
              "      <td>0.236911</td>\n",
              "      <td>0.285588</td>\n",
              "      <td>0.293177</td>\n",
              "      <td>0.008916</td>\n",
              "      <td>0.013161</td>\n",
              "      <td>0.015839</td>\n",
              "      <td>0.016677</td>\n",
              "      <td>0.256470</td>\n",
              "      <td>0.213340</td>\n",
              "      <td>0.225268</td>\n",
              "      <td>0.327264</td>\n",
              "      <td>0.328473</td>\n",
              "      <td>0.344971</td>\n",
              "      <td>0.023722</td>\n",
              "      <td>0.293006</td>\n",
              "      <td>0.42209</td>\n",
              "      <td>40.962772</td>\n",
              "      <td>85</td>\n",
              "      <td>23</td>\n",
              "      <td>14.428384</td>\n",
              "      <td>41.282724</td>\n",
              "      <td>129</td>\n",
              "      <td>7</td>\n",
              "      <td>28.269629</td>\n",
              "      <td>240637</td>\n",
              "      <td>9.538677e+05</td>\n",
              "      <td>7060467</td>\n",
              "      <td>...</td>\n",
              "      <td>0.225268</td>\n",
              "      <td>0.067738</td>\n",
              "      <td>0.203051</td>\n",
              "      <td>0.054841</td>\n",
              "      <td>0.327264</td>\n",
              "      <td>0.002914</td>\n",
              "      <td>0.201486</td>\n",
              "      <td>0.118446</td>\n",
              "      <td>0.327264</td>\n",
              "      <td>0.012445</td>\n",
              "      <td>0.284330</td>\n",
              "      <td>0.094401</td>\n",
              "      <td>0.327264</td>\n",
              "      <td>0.002914</td>\n",
              "      <td>0.272412</td>\n",
              "      <td>0.103460</td>\n",
              "      <td>0.328473</td>\n",
              "      <td>0.010573</td>\n",
              "      <td>0.226082</td>\n",
              "      <td>0.102174</td>\n",
              "      <td>0.328473</td>\n",
              "      <td>0.093617</td>\n",
              "      <td>0.300659</td>\n",
              "      <td>0.075897</td>\n",
              "      <td>0.328473</td>\n",
              "      <td>0.010573</td>\n",
              "      <td>0.289044</td>\n",
              "      <td>0.085117</td>\n",
              "      <td>0.344971</td>\n",
              "      <td>0.056571</td>\n",
              "      <td>0.257345</td>\n",
              "      <td>0.098543</td>\n",
              "      <td>0.344971</td>\n",
              "      <td>0.056571</td>\n",
              "      <td>0.307256</td>\n",
              "      <td>0.065341</td>\n",
              "      <td>0.344971</td>\n",
              "      <td>0.056571</td>\n",
              "      <td>0.297536</td>\n",
              "      <td>0.077729</td>\n",
              "    </tr>\n",
              "  </tbody>\n",
              "</table>\n",
              "<p>5 rows × 293 columns</p>\n",
              "</div>"
            ],
            "text/plain": [
              "         ID  ... region_occupation_Credit_Product_Is_Active_std\n",
              "0  NNVBBKZB  ...                                       0.095986\n",
              "1  IDD62UNG  ...                                       0.087355\n",
              "2  HD3DSEMC  ...                                       0.095327\n",
              "3  BF3NC7KV  ...                                       0.077711\n",
              "4  TEASRWXV  ...                                       0.077729\n",
              "\n",
              "[5 rows x 293 columns]"
            ]
          },
          "metadata": {
            "tags": []
          },
          "execution_count": 80
        }
      ]
    },
    {
      "cell_type": "code",
      "metadata": {
        "id": "J4nxX4wFz3U-"
      },
      "source": [
        "import pandas as pd\n",
        "import numpy as np\n",
        "from itertools import combinations\n",
        "\n",
        "from sklearn.preprocessing import LabelEncoder \n",
        "\n",
        "from sklearn.model_selection import train_test_split\n",
        "from xgboost import XGBClassifier\n",
        "#from catboost import CatBoostClassifier\n",
        "\n",
        "from sklearn.metrics import roc_curve\n",
        "import matplotlib.pyplot as plt\n",
        "\n",
        "import pickle \n",
        "from sklearn.externals import joblib \n",
        "\n",
        "import warnings\n",
        "warnings.filterwarnings(\"ignore\")"
      ],
      "execution_count": 81,
      "outputs": []
    },
    {
      "cell_type": "code",
      "metadata": {
        "id": "84ATnbJisjgn"
      },
      "source": [
        "def label_encoder(df):\n",
        "    \"\"\" Label encoding for categorical features\"\"\"\n",
        "    le = LabelEncoder()\n",
        "    for col in ['Gender', 'Region_Code', 'Occupation', 'Channel_Code','Credit_Product', 'Is_Active']:\n",
        "      df[col]=  df[col].astype('str') \n",
        "      df[col]= le.fit_transform(df[col])\n",
        "\n",
        "    return df"
      ],
      "execution_count": 82,
      "outputs": []
    },
    {
      "cell_type": "code",
      "metadata": {
        "id": "o__c7pvlzbo_"
      },
      "source": [
        "\n",
        "df=label_encoder(data)"
      ],
      "execution_count": 83,
      "outputs": []
    },
    {
      "cell_type": "code",
      "metadata": {
        "colab": {
          "base_uri": "https://localhost:8080/"
        },
        "id": "iNO0EI9JmGrF",
        "outputId": "1dab83bd-bdd7-415f-e9eb-40e9d538e125"
      },
      "source": [
        "df.shape"
      ],
      "execution_count": 104,
      "outputs": [
        {
          "output_type": "execute_result",
          "data": {
            "text/plain": [
              "(245725, 293)"
            ]
          },
          "metadata": {
            "tags": []
          },
          "execution_count": 104
        }
      ]
    },
    {
      "cell_type": "code",
      "metadata": {
        "id": "XkZfYFEozycN"
      },
      "source": [
        "x=df.drop(['ID','Is_Lead'],axis=1) #contain all  independent variable\n",
        "y=df['Is_Lead']           #dependent variable"
      ],
      "execution_count": 92,
      "outputs": []
    },
    {
      "cell_type": "code",
      "metadata": {
        "id": "nDK0HB_B0EtX"
      },
      "source": [
        "\n",
        "# splitting data\n",
        "X_train, x_val, y_train, y_val = train_test_split(x, y, test_size=.10,\n",
        "                                                    random_state=0,shuffle=True)"
      ],
      "execution_count": 105,
      "outputs": []
    },
    {
      "cell_type": "code",
      "metadata": {
        "id": "ltJg7If40Q5h"
      },
      "source": [
        "params={'lambda': 2.8849054495567423, \n",
        "        'alpha': 0.001054193185317787, \n",
        "        'colsample_bytree': 0.5, \n",
        "        'subsample': 0.4, \n",
        "        'learning_rate': 0.014, \n",
        "        'max_depth': 13, \n",
        "        'random_state': 24,\n",
        "        'min_child_weight': 5,\n",
        "        }"
      ],
      "execution_count": 126,
      "outputs": []
    },
    {
      "cell_type": "code",
      "metadata": {
        "colab": {
          "base_uri": "https://localhost:8080/"
        },
        "id": "5sIyzsK70L5Q",
        "outputId": "989bb464-c294-4221-d636-0e230ea24a12"
      },
      "source": [
        "#modelling\n",
        "model = XGBClassifier(n_estimators=1000,**params,verbose= -1)\n",
        "model.fit(X_train, y_train,eval_set=[(x_val, y_val)], early_stopping_rounds=30,verbose=False,eval_metric='auc')"
      ],
      "execution_count": 124,
      "outputs": [
        {
          "output_type": "execute_result",
          "data": {
            "text/plain": [
              "XGBClassifier(alpha=0.001054193185317787, base_score=0.5, booster='gbtree',\n",
              "              colsample_bylevel=1, colsample_bynode=1, colsample_bytree=0.5,\n",
              "              gamma=0, lambda=2.8849054495567423, learning_rate=0.014,\n",
              "              max_delta_step=0, max_depth=13, min_child_weight=5, missing=None,\n",
              "              n_estimators=1000, n_jobs=1, nthread=None,\n",
              "              objective='binary:logistic', random_state=24, reg_alpha=0,\n",
              "              reg_lambda=1, scale_pos_weight=5, seed=None, silent=None,\n",
              "              subsample=0.4, verbose=-1, verbosity=1)"
            ]
          },
          "metadata": {
            "tags": []
          },
          "execution_count": 124
        }
      ]
    },
    {
      "cell_type": "code",
      "metadata": {
        "colab": {
          "base_uri": "https://localhost:8080/"
        },
        "id": "0oN7jDZl0O_f",
        "outputId": "ecdc13fe-66ac-4ca5-b0e1-3d1243d71bfe"
      },
      "source": [
        "#Performance Metric Evaluation\n",
        "from sklearn.metrics import roc_auc_score,accuracy_score\n",
        "y_predict=model.predict(x_val)\n",
        "y_predict_prob =model.predict_proba(x_val)[:,1]\n",
        "acc_xgb=accuracy_score(y_val,y_predict)\n",
        "AUC_xgb=roc_auc_score(y_val,y_predict_prob)\n",
        "print('VALIDATION DATASET\\n')\n",
        "print('Accuracy Score:',acc_xgb)\n",
        "print('\\n')\n",
        "print(\"ROC_AUC Score:\",AUC_xgb)"
      ],
      "execution_count": 125,
      "outputs": [
        {
          "output_type": "stream",
          "text": [
            "VALIDATION DATASET\n",
            "\n",
            "Accuracy Score: 0.7958328246449355\n",
            "\n",
            "\n",
            "ROC_AUC Score: 0.8722997272090984\n"
          ],
          "name": "stdout"
        }
      ]
    },
    {
      "cell_type": "code",
      "metadata": {
        "colab": {
          "base_uri": "https://localhost:8080/",
          "height": 301
        },
        "id": "UmOp0yEuje65",
        "outputId": "a71b8457-b1a0-49d1-d010-b141dab0367b"
      },
      "source": [
        "#ROC curve\n",
        "fpr, tpr, _ = roc_curve(y_val, y_predict_prob )\n",
        "\n",
        "plt.title('XGBoost ROC curve')\n",
        "plt.xlabel('FPR (Precision)')\n",
        "plt.ylabel('TPR (Recall)')\n",
        "\n",
        "plt.plot(fpr,tpr)\n",
        "plt.plot((0,1), ls='dashed',color='black')\n",
        "plt.show()"
      ],
      "execution_count": 117,
      "outputs": [
        {
          "output_type": "display_data",
          "data": {
            "image/png": "[encoded data removed]",
            "text/plain": [
              "<Figure size 432x288 with 1 Axes>"
            ]
          },
          "metadata": {
            "tags": []
          }
        }
      ]
    },
    {
      "cell_type": "code",
      "metadata": {
        "colab": {
          "base_uri": "https://localhost:8080/"
        },
        "id": "Soak5_59jfBn",
        "outputId": "e4c0e04a-80a1-4b18-8c86-b081d4a1b866"
      },
      "source": [
        "joblib.dump(model, 'xgb1.pkl') # saving xgb classifier"
      ],
      "execution_count": 111,
      "outputs": [
        {
          "output_type": "execute_result",
          "data": {
            "text/plain": [
              "['xgb1.pkl']"
            ]
          },
          "metadata": {
            "tags": []
          },
          "execution_count": 111
        }
      ]
    },
    {
      "cell_type": "code",
      "metadata": {
        "id": "APBtiGbmlFSb"
      },
      "source": [
        ""
      ],
      "execution_count": null,
      "outputs": []
    }
  ]
}