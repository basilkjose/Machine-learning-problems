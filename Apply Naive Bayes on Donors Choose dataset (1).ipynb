{
 "cells": [
  {
   "cell_type": "markdown",
   "metadata": {},
   "source": [
    "### Importing libraries"
   ]
  },
  {
   "cell_type": "code",
   "execution_count": 63,
   "metadata": {},
   "outputs": [],
   "source": [
    "%matplotlib inline\n",
    "import warnings\n",
    "warnings.filterwarnings(\"ignore\")\n",
    "\n",
    "import pandas as pd\n",
    "import numpy as np\n",
    "import math as m\n",
    "import matplotlib.pyplot as plt\n",
    "import seaborn as sns\n",
    "import nltk\n",
    "import re\n",
    "\n",
    "from sklearn.feature_extraction.text import TfidfVectorizer\n",
    "from sklearn.feature_extraction.text import CountVectorizer\n",
    "from sklearn.preprocessing import Normalizer\n",
    "from sklearn.metrics import confusion_matrix\n",
    "from sklearn.model_selection import train_test_split\n",
    "from sklearn import metrics\n",
    "from sklearn.metrics import roc_curve, auc\n",
    "from tqdm import tqdm"
   ]
  },
  {
   "cell_type": "markdown",
   "metadata": {},
   "source": [
    "###  Importing dataset"
   ]
  },
  {
   "cell_type": "code",
   "execution_count": 64,
   "metadata": {},
   "outputs": [],
   "source": [
    "data = pd.read_csv('preprocessed_data.csv')"
   ]
  },
  {
   "cell_type": "code",
   "execution_count": 65,
   "metadata": {},
   "outputs": [
    {
     "data": {
      "text/html": [
       "<div>\n",
       "<style scoped>\n",
       "    .dataframe tbody tr th:only-of-type {\n",
       "        vertical-align: middle;\n",
       "    }\n",
       "\n",
       "    .dataframe tbody tr th {\n",
       "        vertical-align: top;\n",
       "    }\n",
       "\n",
       "    .dataframe thead th {\n",
       "        text-align: right;\n",
       "    }\n",
       "</style>\n",
       "<table border=\"1\" class=\"dataframe\">\n",
       "  <thead>\n",
       "    <tr style=\"text-align: right;\">\n",
       "      <th></th>\n",
       "      <th>school_state</th>\n",
       "      <th>teacher_prefix</th>\n",
       "      <th>project_grade_category</th>\n",
       "      <th>teacher_number_of_previously_posted_projects</th>\n",
       "      <th>project_is_approved</th>\n",
       "      <th>clean_categories</th>\n",
       "      <th>clean_subcategories</th>\n",
       "      <th>essay</th>\n",
       "      <th>price</th>\n",
       "    </tr>\n",
       "  </thead>\n",
       "  <tbody>\n",
       "    <tr>\n",
       "      <th>0</th>\n",
       "      <td>ca</td>\n",
       "      <td>mrs</td>\n",
       "      <td>grades_prek_2</td>\n",
       "      <td>53</td>\n",
       "      <td>1</td>\n",
       "      <td>math_science</td>\n",
       "      <td>appliedsciences health_lifescience</td>\n",
       "      <td>i fortunate enough use fairy tale stem kits cl...</td>\n",
       "      <td>725.05</td>\n",
       "    </tr>\n",
       "  </tbody>\n",
       "</table>\n",
       "</div>"
      ],
      "text/plain": [
       "  school_state teacher_prefix project_grade_category  \\\n",
       "0           ca            mrs          grades_prek_2   \n",
       "\n",
       "   teacher_number_of_previously_posted_projects  project_is_approved  \\\n",
       "0                                            53                    1   \n",
       "\n",
       "  clean_categories                 clean_subcategories  \\\n",
       "0     math_science  appliedsciences health_lifescience   \n",
       "\n",
       "                                               essay   price  \n",
       "0  i fortunate enough use fairy tale stem kits cl...  725.05  "
      ]
     },
     "execution_count": 65,
     "metadata": {},
     "output_type": "execute_result"
    }
   ],
   "source": [
    "data.head(1)"
   ]
  },
  {
   "cell_type": "markdown",
   "metadata": {},
   "source": [
    "###   Splitting data into Train and cross validation(or test): Stratified Sampling"
   ]
  },
  {
   "cell_type": "code",
   "execution_count": 66,
   "metadata": {},
   "outputs": [],
   "source": [
    "y = data['project_is_approved'].values\n",
    "X = data.drop(['project_is_approved'], axis=1)"
   ]
  },
  {
   "cell_type": "code",
   "execution_count": 67,
   "metadata": {},
   "outputs": [],
   "source": [
    "X_train, X_test, y_train, y_test = train_test_split(X, y, test_size=0.33, stratify=y,random_state=42) # since we are using grid search no need of extra cross validation data\n",
    "#X_train, X_cv, y_train, y_cv = train_test_split(X_train, y_train, test_size=0.33, stratify=y_train) "
   ]
  },
  {
   "cell_type": "markdown",
   "metadata": {},
   "source": [
    "###  Make Data Model Ready: encoding eassay(text feature)\n"
   ]
  },
  {
   "cell_type": "markdown",
   "metadata": {},
   "source": [
    "####  Bag Of Words"
   ]
  },
  {
   "cell_type": "code",
   "execution_count": 68,
   "metadata": {},
   "outputs": [
    {
     "name": "stdout",
     "output_type": "stream",
     "text": [
      "After vectorizations\n",
      "(73196, 5000) (73196,)\n",
      "(36052, 5000) (36052,)\n",
      "========================================\n"
     ]
    }
   ],
   "source": [
    "vectorizer_bow = CountVectorizer(min_df=10,ngram_range=(1,4), max_features=5000)\n",
    "vectorizer_bow.fit(X_train['essay'].values)  #fitting\n",
    "\n",
    "X_train_essay_bow = vectorizer_bow.transform(X_train['essay'].values) \n",
    "#X_cv_essay_bow = vectorizer_bow.transform(X_cv['essay'].values)    # tranform \n",
    "X_test_essay_bow = vectorizer_bow.transform(X_test['essay'].values)\n",
    "\n",
    "print(\"After vectorizations\")\n",
    "print(X_train_essay_bow.shape, y_train.shape)\n",
    "#print(X_cv_essay_bow.shape, y_cv.shape)\n",
    "print(X_test_essay_bow.shape, y_test.shape)\n",
    "print(\"=\"*40)"
   ]
  },
  {
   "cell_type": "markdown",
   "metadata": {},
   "source": [
    "####  TFIDF vectorizer"
   ]
  },
  {
   "cell_type": "code",
   "execution_count": 69,
   "metadata": {},
   "outputs": [
    {
     "name": "stdout",
     "output_type": "stream",
     "text": [
      "After vectorizations\n",
      "(73196, 5000) (73196,)\n",
      "(36052, 5000) (36052,)\n",
      "========================================\n"
     ]
    }
   ],
   "source": [
    "tfidfvectorizer = TfidfVectorizer(min_df=10,max_features=5000)\n",
    "text_tfidf = tfidfvectorizer.fit(X_train['essay'].values) #fitting\n",
    "\n",
    "X_train_essay_tfidf =tfidfvectorizer.transform(X_train['essay'].values) \n",
    "#X_cv_essay_tfidf =tfidfvectorizer.transform(X_cv['essay'].values)  #transform\n",
    "X_test_essay_tfidf =tfidfvectorizer.transform(X_test['essay'].values)\n",
    "\n",
    "print(\"After vectorizations\")\n",
    "print(X_train_essay_tfidf.shape, y_train.shape)\n",
    "#print(X_cv_essay_tfidf.shape, y_cv.shape)\n",
    "print(X_test_essay_tfidf.shape, y_test.shape)\n",
    "print(\"=\"*40)"
   ]
  },
  {
   "cell_type": "markdown",
   "metadata": {},
   "source": [
    "###  Make Data Model Ready: categorical features"
   ]
  },
  {
   "cell_type": "markdown",
   "metadata": {},
   "source": [
    "####  encoding categorical features: School State"
   ]
  },
  {
   "cell_type": "code",
   "execution_count": 70,
   "metadata": {},
   "outputs": [
    {
     "name": "stdout",
     "output_type": "stream",
     "text": [
      "After vectorizations\n",
      "(73196, 51) (73196,)\n",
      "(36052, 51) (36052,)\n",
      "========================================\n"
     ]
    }
   ],
   "source": [
    "vectorizer_state = CountVectorizer()\n",
    "vectorizer_state.fit(X_train['school_state'].values) # fitting\n",
    "\n",
    "X_train_state_ohe = vectorizer_state.transform(X_train['school_state'].values)\n",
    "#X_cv_state_ohe = vectorizer_state.transform(X_cv['school_state'].values)  #transform\n",
    "X_test_state_ohe = vectorizer_state.transform(X_test['school_state'].values)\n",
    "\n",
    "print(\"After vectorizations\")\n",
    "print(X_train_state_ohe.shape, y_train.shape)\n",
    "#print(X_cv_state_ohe.shape, y_cv.shape)\n",
    "print(X_test_state_ohe.shape, y_test.shape)\n",
    "print(\"=\"*40)"
   ]
  },
  {
   "cell_type": "markdown",
   "metadata": {},
   "source": [
    "#### encoding categorical features: teacher_prefix"
   ]
  },
  {
   "cell_type": "code",
   "execution_count": 71,
   "metadata": {},
   "outputs": [
    {
     "name": "stdout",
     "output_type": "stream",
     "text": [
      "After vectorizations\n",
      "(73196, 5) (73196,)\n",
      "(36052, 5) (36052,)\n",
      "========================================\n"
     ]
    }
   ],
   "source": [
    "vectorizer_prefix= CountVectorizer()\n",
    "vectorizer_prefix.fit(X_train['teacher_prefix'].values) # fitting \n",
    "\n",
    "X_train_teacher_ohe = vectorizer_prefix.transform(X_train['teacher_prefix'].values)\n",
    "#X_cv_teacher_ohe = vectorizer_prefix.transform(X_cv['teacher_prefix'].values)  #transform\n",
    "X_test_teacher_ohe = vectorizer_prefix.transform(X_test['teacher_prefix'].values)\n",
    "\n",
    "print(\"After vectorizations\")\n",
    "print(X_train_teacher_ohe.shape, y_train.shape)\n",
    "#print(X_cv_teacher_ohe.shape, y_cv.shape)\n",
    "print(X_test_teacher_ohe.shape, y_test.shape)\n",
    "print(\"=\"*40)"
   ]
  },
  {
   "cell_type": "markdown",
   "metadata": {},
   "source": [
    "####   encoding categorical features: project_grade_category"
   ]
  },
  {
   "cell_type": "code",
   "execution_count": 72,
   "metadata": {},
   "outputs": [
    {
     "name": "stdout",
     "output_type": "stream",
     "text": [
      "After vectorizations\n",
      "(73196, 4) (73196,)\n",
      "(36052, 4) (36052,)\n",
      "========================================\n"
     ]
    }
   ],
   "source": [
    "vectorizer_grade = CountVectorizer()\n",
    "vectorizer_grade.fit(X_train['project_grade_category'].values) # fitting \n",
    "\n",
    "X_train_grade_ohe = vectorizer_grade.transform(X_train['project_grade_category'].values)\n",
    "#X_cv_grade_ohe = vectorizer_grade.transform(X_cv['project_grade_category'].values)  #transform\n",
    "X_test_grade_ohe = vectorizer_grade.transform(X_test['project_grade_category'].values)\n",
    "\n",
    "\n",
    "print(\"After vectorizations\")\n",
    "print(X_train_grade_ohe.shape, y_train.shape)\n",
    "#print(X_cv_grade_ohe.shape, y_cv.shape)\n",
    "print(X_test_grade_ohe.shape, y_test.shape)\n",
    "print(\"=\"*40)"
   ]
  },
  {
   "cell_type": "markdown",
   "metadata": {},
   "source": [
    "####  encoding categorical features: clean_categories\t"
   ]
  },
  {
   "cell_type": "code",
   "execution_count": 73,
   "metadata": {},
   "outputs": [
    {
     "name": "stdout",
     "output_type": "stream",
     "text": [
      "After vectorizations\n",
      "(73196, 9) (73196,)\n",
      "(36052, 9) (36052,)\n",
      "========================================\n"
     ]
    }
   ],
   "source": [
    "vectorizer_category = CountVectorizer()\n",
    "vectorizer_category.fit(X_train['clean_categories'].values) # fitting \n",
    "\n",
    "X_train_category_ohe = vectorizer_category.transform(X_train['clean_categories'].values)\n",
    "#X_cv_category_ohe = vectorizer.transform(X_cv['clean_categories'].values)   #transform\n",
    "X_test_category_ohe = vectorizer_category.transform(X_test['clean_categories'].values)\n",
    "\n",
    "print(\"After vectorizations\")\n",
    "print(X_train_category_ohe.shape, y_train.shape)\n",
    "#print(X_cv_category_ohe.shape, y_cv.shape)\n",
    "print(X_test_category_ohe.shape, y_test.shape)\n",
    "print(\"=\"*40)"
   ]
  },
  {
   "cell_type": "markdown",
   "metadata": {},
   "source": [
    "#####  encoding categorical features: \tclean_subcategories"
   ]
  },
  {
   "cell_type": "code",
   "execution_count": 74,
   "metadata": {},
   "outputs": [
    {
     "name": "stdout",
     "output_type": "stream",
     "text": [
      "After vectorizations\n",
      "(73196, 30) (73196,)\n",
      "(36052, 30) (36052,)\n",
      "========================================\n"
     ]
    }
   ],
   "source": [
    "vectorizer_sub = CountVectorizer()\n",
    "vectorizer_sub.fit(X_train['clean_subcategories'].values) # fitting\n",
    "\n",
    "X_train_subcategory_ohe = vectorizer_sub.transform(X_train['clean_subcategories'].values)\n",
    "#X_cv_subcategory_ohe = vectorizer_sub.transform(X_cv['clean_subcategories'].values)  #transform\n",
    "X_test_subcategory_ohe = vectorizer_sub.transform(X_test['clean_subcategories'].values)\n",
    "\n",
    "print(\"After vectorizations\")\n",
    "print(X_train_subcategory_ohe.shape, y_train.shape)\n",
    "#print(X_cv_subcategory_ohe.shape, y_cv.shape)\n",
    "print(X_test_subcategory_ohe.shape, y_test.shape)\n",
    "print(\"=\"*40)"
   ]
  },
  {
   "cell_type": "markdown",
   "metadata": {},
   "source": [
    "###  Encoding numerical features"
   ]
  },
  {
   "cell_type": "markdown",
   "metadata": {},
   "source": [
    "#### encoding numerical feature :price"
   ]
  },
  {
   "cell_type": "code",
   "execution_count": 75,
   "metadata": {},
   "outputs": [
    {
     "name": "stdout",
     "output_type": "stream",
     "text": [
      "After vectorizations\n",
      "(73196, 1) (73196,)\n",
      "(36052, 1) (36052,)\n",
      "====================================================================================================\n"
     ]
    }
   ],
   "source": [
    "normalizer = Normalizer()\n",
    "normalizer.fit(X_train['price'].values.reshape(1,-1)) #fitting\n",
    "\n",
    "X_train_price_norm = normalizer.transform(X_train['price'].values.reshape(1,-1))\n",
    "#X_cv_price_norm = normalizer.transform(X_cv['price'].values.reshape(1,-1)) #transform\n",
    "X_test_price_norm = normalizer.transform(X_test['price'].values.reshape(1,-1))\n",
    "\n",
    "X_train_price_norm =X_train_price_norm.reshape(-1,1)\n",
    "#X_cv_price_norm =X_cv_price_norm.reshape(-1,1)\n",
    "X_test_price_norm=X_test_price_norm.reshape(-1,1)\n",
    "\n",
    "print(\"After vectorizations\")\n",
    "print(X_train_price_norm.shape, y_train.shape)\n",
    "#print(X_cv_price_norm.shape, y_cv.shape)\n",
    "print(X_test_price_norm.shape, y_test.shape)\n",
    "print(\"=\"*100)"
   ]
  },
  {
   "cell_type": "markdown",
   "metadata": {},
   "source": [
    "####  encoding numerical features:teacher_number_of_previously_posted_projects\t"
   ]
  },
  {
   "cell_type": "code",
   "execution_count": 76,
   "metadata": {},
   "outputs": [
    {
     "name": "stdout",
     "output_type": "stream",
     "text": [
      "After vectorizations\n",
      "(73196, 1) (73196,)\n",
      "(36052, 1) (36052,)\n",
      "====================================================================================================\n"
     ]
    }
   ],
   "source": [
    "normalizer = Normalizer()\n",
    "normalizer.fit(X_train['teacher_number_of_previously_posted_projects'].values.reshape(1,-1)) #transform\n",
    "\n",
    "X_train_submission_norm = normalizer.transform(X_train['teacher_number_of_previously_posted_projects'].values.reshape(1,-1))\n",
    "#X_cv_submission_norm = normalizer.transform(X_cv['teacher_number_of_previously_posted_projects'].values.reshape(1,-1))  #transform\n",
    "X_test_submission_norm = normalizer.transform(X_test['teacher_number_of_previously_posted_projects'].values.reshape(1,-1))\n",
    "\n",
    "X_train_submission_norm =X_train_submission_norm .reshape(-1,1)\n",
    "#X_cv_submission_norm =X_cv_submission_norm .reshape(-1,1)\n",
    "X_test_submission_norm=X_test_submission_norm.reshape(-1,1)\n",
    "\n",
    "print(\"After vectorizations\")\n",
    "print(X_train_submission_norm.shape, y_train.shape)\n",
    "#print(X_cv_submission_norm.shape, y_cv.shape)\n",
    "print(X_test_submission_norm.shape, y_test.shape)\n",
    "print(\"=\"*100)"
   ]
  },
  {
   "cell_type": "markdown",
   "metadata": {},
   "source": [
    "###   Concatinating all the features"
   ]
  },
  {
   "cell_type": "markdown",
   "metadata": {},
   "source": [
    "##### SET-1"
   ]
  },
  {
   "cell_type": "markdown",
   "metadata": {},
   "source": [
    "Set 1: categorical, numerical features + preprocessed_eassay (BOW)"
   ]
  },
  {
   "cell_type": "code",
   "execution_count": 77,
   "metadata": {},
   "outputs": [],
   "source": [
    "from scipy.sparse import hstack\n",
    "X_tr_set_one = hstack((X_train_essay_bow, X_train_state_ohe, X_train_teacher_ohe, X_train_grade_ohe, X_train_price_norm,X_train_category_ohe,X_train_subcategory_ohe,X_train_submission_norm )).tocsr()\n",
    "#X_cr_set_one= hstack((X_cv_essay_bow, X_cv_state_ohe, X_cv_teacher_ohe, X_cv_grade_ohe, X_cv_price_norm,X_cv_category_ohe,X_cv_subcategory_ohe,X_cv_submission_norm)).tocsr()\n",
    "X_te_set_one = hstack((X_test_essay_bow, X_test_state_ohe, X_test_teacher_ohe, X_test_grade_ohe, X_test_price_norm,X_test_category_ohe,X_test_subcategory_ohe,X_test_submission_norm)).tocsr()"
   ]
  },
  {
   "cell_type": "code",
   "execution_count": 78,
   "metadata": {},
   "outputs": [
    {
     "name": "stdout",
     "output_type": "stream",
     "text": [
      "SHAPE OF TRAIN AND TEST AFTER STACKING\n",
      "(73196, 5101)\n",
      "(36052, 5101)\n"
     ]
    }
   ],
   "source": [
    "print(\"SHAPE OF TRAIN AND TEST AFTER STACKING\")\n",
    "print(X_tr_set_one.shape)\n",
    "print(X_te_set_one.shape)"
   ]
  },
  {
   "cell_type": "markdown",
   "metadata": {},
   "source": [
    "#####  SET-2\n"
   ]
  },
  {
   "cell_type": "markdown",
   "metadata": {},
   "source": [
    "Set 2: categorical, numerical features + preprocessed_eassay (TFIDF)"
   ]
  },
  {
   "cell_type": "code",
   "execution_count": 79,
   "metadata": {},
   "outputs": [],
   "source": [
    "from scipy.sparse import hstack\n",
    "X_tr_set_two = hstack((X_train_essay_tfidf, X_train_state_ohe, X_train_teacher_ohe, X_train_grade_ohe, X_train_price_norm,X_train_category_ohe,X_train_subcategory_ohe,X_train_submission_norm )).tocsr()\n",
    "#X_cr_set_two= hstack((X_cv_essay_tfidf, X_cv_state_ohe, X_cv_teacher_ohe, X_cv_grade_ohe, X_cv_price_norm,X_cv_category_ohe,X_cv_subcategory_ohe,X_cv_submission_norm)).tocsr()\n",
    "X_te_set_two = hstack((X_test_essay_tfidf, X_test_state_ohe, X_test_teacher_ohe, X_test_grade_ohe, X_test_price_norm,X_test_category_ohe,X_test_subcategory_ohe,X_test_submission_norm)).tocsr()\n"
   ]
  },
  {
   "cell_type": "code",
   "execution_count": 80,
   "metadata": {},
   "outputs": [
    {
     "name": "stdout",
     "output_type": "stream",
     "text": [
      "SHAPE OF TRAIN AND TEST AFTER STACKING\n",
      "(73196, 5101)\n",
      "(36052, 5101)\n"
     ]
    }
   ],
   "source": [
    "print(\"SHAPE OF TRAIN AND TEST AFTER STACKING\")\n",
    "print(X_tr_set_two.shape)\n",
    "print(X_te_set_two.shape)"
   ]
  },
  {
   "cell_type": "markdown",
   "metadata": {},
   "source": [
    "###  MULTINOMIAL NAIVE BAYES USING GRID SEARCH CROSS VALIDATION (SET - 1)"
   ]
  },
  {
   "cell_type": "code",
   "execution_count": 81,
   "metadata": {},
   "outputs": [],
   "source": [
    "from sklearn.naive_bayes import MultinomialNB\n",
    "from sklearn.model_selection import GridSearchCV\n",
    "\n",
    "model=MultinomialNB(class_prior=[0.5,0.5])\n",
    "param={'alpha': [0.00001, 0.0001, 0.001, 0.1, 1, 10, 100,1000]}\n",
    "clf=GridSearchCV(model,param,scoring='roc_auc',cv=10,return_train_score=True) # running 10 fold cross validation grid search\n",
    "clf.fit(X_tr_set_one,y_train) #fitting\n",
    "train_auc= clf.cv_results_['mean_train_score']\n",
    "train_auc_std= clf.cv_results_['std_train_score']\n",
    "cv_auc = clf.cv_results_['mean_test_score'] \n",
    "cv_auc_std= clf.cv_results_['std_test_score']"
   ]
  },
  {
   "cell_type": "code",
   "execution_count": 82,
   "metadata": {},
   "outputs": [
    {
     "name": "stdout",
     "output_type": "stream",
     "text": [
      "Best score:  0.6899221164273422\n",
      "alpha value with best score:  {'alpha': 1e-05}\n",
      "========================================\n"
     ]
    }
   ],
   "source": [
    "print('Best score: ',clf.best_score_)\n",
    "print('alpha value with best score: ',clf.best_params_)\n",
    "print('='*40)"
   ]
  },
  {
   "cell_type": "markdown",
   "metadata": {},
   "source": [
    "#### plotting hyperparameter v/s auc"
   ]
  },
  {
   "cell_type": "code",
   "execution_count": 83,
   "metadata": {},
   "outputs": [
    {
     "data": {
      "image/png": "[encoded data removed]",
      "text/plain": [
       "<Figure size 576x432 with 1 Axes>"
      ]
     },
     "metadata": {},
     "output_type": "display_data"
    }
   ],
   "source": [
    "log_param=[]\n",
    "for i in param['alpha']:  # converting alpha into log- alpha\n",
    "    log_param.append(m.log(i))\n",
    "    \n",
    "plt.figure(figsize=(8,6))\n",
    "plt.grid()\n",
    "plt.plot(log_param, train_auc, label='Train AUC')\n",
    "plt.plot(log_param, cv_auc, label='CV AUC')  \n",
    "plt.scatter(log_param,train_auc)\n",
    "plt.scatter(log_param,cv_auc)\n",
    "plt.legend()\n",
    "plt.xlabel(\"log alpha: hyperparameter\")\n",
    "plt.ylabel(\"AUC\")\n",
    "plt.title(\"alpha: hyperparameter v/s AUC\")\n",
    "plt.grid(color='black', linestyle='-', linewidth=0.5)"
   ]
  },
  {
   "cell_type": "markdown",
   "metadata": {},
   "source": [
    "#### roc plot of train and test data\n"
   ]
  },
  {
   "cell_type": "code",
   "execution_count": 84,
   "metadata": {},
   "outputs": [
    {
     "data": {
      "image/png": "[encoded data removed]",
      "text/plain": [
       "<Figure size 576x432 with 1 Axes>"
      ]
     },
     "metadata": {},
     "output_type": "display_data"
    }
   ],
   "source": [
    "model_set1=MultinomialNB(alpha=1e-05,class_prior=[0.5,0.5])\n",
    "model_set1.fit(X_tr_set_one,y_train)\n",
    "y_train_probs = clf.predict_proba(X_tr_set_one)[:,1] # converting train and test output into probability\n",
    "y_test_probs= clf.predict_proba(X_te_set_one )[:,1]\n",
    "\n",
    "train_fpr, train_tpr, tr_thresholds = roc_curve(y_train, y_train_probs) # storing values of fpr and tpr\n",
    "test_fpr, test_tpr, te_thresholds = roc_curve(y_test, y_test_probs)\n",
    "\n",
    "plt.figure(figsize=(8,6))\n",
    "plt.plot(train_fpr, train_tpr, label=\"Train AUC =\"+str(auc(train_fpr, train_tpr)))\n",
    "plt.plot(test_fpr, test_tpr, label=\"Test AUC =\"+str(auc(test_fpr, test_tpr)))\n",
    "plt.legend()\n",
    "plt.xlabel(\"False Positive Rate(FPR)\")\n",
    "plt.ylabel(\"True Positive Rate(TPR)\")\n",
    "plt.title(\"AUC\")\n",
    "plt.grid(color='black',lw=0.5)\n"
   ]
  },
  {
   "cell_type": "markdown",
   "metadata": {},
   "source": [
    "### confusion matrix"
   ]
  },
  {
   "cell_type": "code",
   "execution_count": 85,
   "metadata": {},
   "outputs": [],
   "source": [
    "def find_best_threshold(threshould, fpr, tpr):\n",
    "    t = threshould[np.argmax(tpr*(1-fpr))]\n",
    "    # (tpr*(1-fpr)) will be maximum if your fpr is very low and tpr is very high\n",
    "    print(\"the maximum value of tpr*(1-fpr)\", max(tpr*(1-fpr)), \"for threshold\", np.round(t,3))\n",
    "    return t\n",
    "\n",
    "def predict_with_best_t(proba, threshould):\n",
    "    predictions = []\n",
    "    for i in proba:\n",
    "        if i>=threshould:\n",
    "            predictions.append(1)\n",
    "        else:\n",
    "            predictions.append(0)\n",
    "    return predictions"
   ]
  },
  {
   "cell_type": "markdown",
   "metadata": {},
   "source": [
    "#### Train data"
   ]
  },
  {
   "cell_type": "code",
   "execution_count": 86,
   "metadata": {},
   "outputs": [
    {
     "name": "stdout",
     "output_type": "stream",
     "text": [
      "the maximum value of tpr*(1-fpr) 0.43935211532507107 for threshold 0.539\n",
      "CONFUSION MATRIX OF TRAIN DATA\n",
      "\n",
      "\n",
      "[[ 7542  3541]\n",
      " [22011 40102]]\n"
     ]
    },
    {
     "data": {
      "text/plain": [
       "<matplotlib.axes._subplots.AxesSubplot at 0x1b00d0f66d8>"
      ]
     },
     "execution_count": 86,
     "metadata": {},
     "output_type": "execute_result"
    },
    {
     "data": {
      "image/png": "[encoded data removed]",
      "text/plain": [
       "<Figure size 432x288 with 2 Axes>"
      ]
     },
     "metadata": {},
     "output_type": "display_data"
    }
   ],
   "source": [
    "best_t = find_best_threshold(tr_thresholds, train_fpr, train_tpr)\n",
    "cm=metrics.confusion_matrix(y_train,predict_with_best_t(y_train_probs, best_t))  # https://stackoverflow.com/questions/35572000/how-can-i-plot-a-confusion-matrix\n",
    "\n",
    "print(\"CONFUSION MATRIX OF TRAIN DATA\")\n",
    "print(\"\\n\")\n",
    "print(cm)\n",
    "sns.heatmap(cm, annot=True, fmt='d',cmap='GnBu')"
   ]
  },
  {
   "cell_type": "markdown",
   "metadata": {},
   "source": [
    "####  Test data"
   ]
  },
  {
   "cell_type": "code",
   "execution_count": 87,
   "metadata": {},
   "outputs": [
    {
     "name": "stdout",
     "output_type": "stream",
     "text": [
      "the maximum value of tpr*(1-fpr) 0.41765345104579243 for threshold 0.604\n",
      "CONFUSION MATRIX OF TEST DATA\n",
      "\n",
      "\n",
      "[[ 3624  1835]\n",
      " [11346 19247]]\n"
     ]
    },
    {
     "data": {
      "text/plain": [
       "<matplotlib.axes._subplots.AxesSubplot at 0x1b03d487b70>"
      ]
     },
     "execution_count": 87,
     "metadata": {},
     "output_type": "execute_result"
    },
    {
     "data": {
      "image/png": "[encoded data removed]",
      "text/plain": [
       "<Figure size 432x288 with 2 Axes>"
      ]
     },
     "metadata": {},
     "output_type": "display_data"
    }
   ],
   "source": [
    "best_t = find_best_threshold(te_thresholds, test_fpr, test_tpr)\n",
    "cm=metrics.confusion_matrix(y_test,predict_with_best_t(y_test_probs, best_t))\n",
    "  \n",
    "print(\"CONFUSION MATRIX OF TEST DATA\")\n",
    "print('\\n')\n",
    "print(cm)\n",
    "sns.heatmap(cm, annot=True, fmt='d',cmap='GnBu')"
   ]
  },
  {
   "cell_type": "markdown",
   "metadata": {},
   "source": [
    "### MULTINOMIAL NAIVE BAYES USING GRID SEARCH CROSS VALIDATION (SET - 2)"
   ]
  },
  {
   "cell_type": "code",
   "execution_count": 88,
   "metadata": {},
   "outputs": [],
   "source": [
    "from sklearn.naive_bayes import MultinomialNB\n",
    "from sklearn.model_selection import GridSearchCV\n",
    "\n",
    "model=MultinomialNB(class_prior=[0.5,0.5])\n",
    "param={'alpha': [0.00001, 0.0001, 0.001, 0.1, 1, 10, 100,1000]}\n",
    "clf=GridSearchCV(model,param,scoring='roc_auc',cv=10,return_train_score=True) # running 10 fold cross validation grid search\n",
    "clf.fit(X_tr_set_two,y_train) #fitting\n",
    "train_auc= clf.cv_results_['mean_train_score']\n",
    "train_auc_std= clf.cv_results_['std_train_score']\n",
    "cv_auc = clf.cv_results_['mean_test_score'] \n",
    "cv_auc_std= clf.cv_results_['std_test_score']"
   ]
  },
  {
   "cell_type": "code",
   "execution_count": 89,
   "metadata": {},
   "outputs": [
    {
     "name": "stdout",
     "output_type": "stream",
     "text": [
      "Best score:  0.6731629803905477\n",
      "alpha value with best score:  {'alpha': 1e-05}\n",
      "========================================\n"
     ]
    }
   ],
   "source": [
    "print('Best score: ',clf.best_score_)\n",
    "print('alpha value with best score: ',clf.best_params_)\n",
    "print('='*40)"
   ]
  },
  {
   "cell_type": "markdown",
   "metadata": {},
   "source": [
    "#### plotting hyperparameter v/s auc"
   ]
  },
  {
   "cell_type": "code",
   "execution_count": 92,
   "metadata": {},
   "outputs": [
    {
     "data": {
      "image/png": "[encoded data removed]",
      "text/plain": [
       "<Figure size 576x432 with 1 Axes>"
      ]
     },
     "metadata": {},
     "output_type": "display_data"
    }
   ],
   "source": [
    "log_param=[]\n",
    "for i in param['alpha']:  # converting alpha into log- alpha\n",
    "    log_param.append(m.log(i))\n",
    "    \n",
    "plt.figure(figsize=(8,6))\n",
    "plt.grid()\n",
    "plt.plot(log_param, train_auc, label='Train AUC')\n",
    "plt.plot(log_param, cv_auc, label='CV AUC')  \n",
    "plt.scatter(log_param,train_auc)\n",
    "plt.scatter(log_param,cv_auc)\n",
    "plt.legend()\n",
    "plt.xlabel(\"log alpha: hyperparameter\")\n",
    "plt.ylabel(\"AUC\")\n",
    "plt.title(\"alpha: hyperparameter v/s AUC\")\n",
    "plt.grid(color='black', linestyle='-', linewidth=0.5)"
   ]
  },
  {
   "cell_type": "markdown",
   "metadata": {},
   "source": [
    "#### roc plot of train and test data"
   ]
  },
  {
   "cell_type": "code",
   "execution_count": 93,
   "metadata": {},
   "outputs": [
    {
     "data": {
      "image/png": "[encoded data removed]",
      "text/plain": [
       "<Figure size 576x432 with 1 Axes>"
      ]
     },
     "metadata": {},
     "output_type": "display_data"
    }
   ],
   "source": [
    "model_set2=MultinomialNB(alpha=1e-05,class_prior=[0.5,0.5])\n",
    "model_set2.fit(X_tr_set_two,y_train)\n",
    "y_train_probs = clf.predict_proba(X_tr_set_two)[:,1] # converting train and test output into probability\n",
    "y_test_probs= clf.predict_proba(X_te_set_two )[:,1]\n",
    "\n",
    "train_fpr, train_tpr, tr_thresholds = roc_curve(y_train, y_train_probs) # storing values of fpr and tpr\n",
    "test_fpr, test_tpr, te_thresholds = roc_curve(y_test, y_test_probs)\n",
    "\n",
    "plt.figure(figsize=(8,6))\n",
    "plt.plot(train_fpr, train_tpr, label=\"Train AUC =\"+str(auc(train_fpr, train_tpr)))\n",
    "plt.plot(test_fpr, test_tpr, label=\"Test AUC =\"+str(auc(test_fpr, test_tpr)))\n",
    "plt.legend()\n",
    "plt.xlabel(\"False Positive Rate(FPR)\")\n",
    "plt.ylabel(\"True Positive Rate(TPR)\")\n",
    "plt.title(\"AUC\")\n",
    "plt.grid(color='black',lw=0.5)\n"
   ]
  },
  {
   "cell_type": "markdown",
   "metadata": {},
   "source": [
    "### Confusion matrix"
   ]
  },
  {
   "cell_type": "markdown",
   "metadata": {},
   "source": [
    "#### Train data"
   ]
  },
  {
   "cell_type": "code",
   "execution_count": 94,
   "metadata": {},
   "outputs": [
    {
     "name": "stdout",
     "output_type": "stream",
     "text": [
      "the maximum value of tpr*(1-fpr) 0.4275996878836346 for threshold 0.502\n",
      "CONFUSION MATRIX OF TRAIN DATA\n",
      "\n",
      "\n",
      "[[ 7308  3775]\n",
      " [21834 40279]]\n"
     ]
    },
    {
     "data": {
      "text/plain": [
       "<matplotlib.axes._subplots.AxesSubplot at 0x1b061e69128>"
      ]
     },
     "execution_count": 94,
     "metadata": {},
     "output_type": "execute_result"
    },
    {
     "data": {
      "image/png": "[encoded data removed]",
      "text/plain": [
       "<Figure size 432x288 with 2 Axes>"
      ]
     },
     "metadata": {},
     "output_type": "display_data"
    }
   ],
   "source": [
    "best_t = find_best_threshold(tr_thresholds, train_fpr, train_tpr)\n",
    "cm=metrics.confusion_matrix(y_train,predict_with_best_t(y_train_probs, best_t))  # https://stackoverflow.com/questions/35572000/how-can-i-plot-a-confusion-matrix\n",
    "\n",
    "print(\"CONFUSION MATRIX OF TRAIN DATA\")\n",
    "print(\"\\n\")\n",
    "print(cm)\n",
    "sns.heatmap(cm, annot=True, fmt='d',cmap='GnBu')"
   ]
  },
  {
   "cell_type": "markdown",
   "metadata": {},
   "source": [
    "#### Test data"
   ]
  },
  {
   "cell_type": "code",
   "execution_count": 95,
   "metadata": {},
   "outputs": [
    {
     "name": "stdout",
     "output_type": "stream",
     "text": [
      "the maximum value of tpr*(1-fpr) 0.401206416344226 for threshold 0.511\n",
      "CONFUSION MATRIX OF TEST DATA\n",
      "\n",
      "\n",
      "[[ 3509  1950]\n",
      " [11498 19095]]\n"
     ]
    },
    {
     "data": {
      "text/plain": [
       "<matplotlib.axes._subplots.AxesSubplot at 0x1b0621f02b0>"
      ]
     },
     "execution_count": 95,
     "metadata": {},
     "output_type": "execute_result"
    },
    {
     "data": {
      "image/png": "[encoded data removed]",
      "text/plain": [
       "<Figure size 432x288 with 2 Axes>"
      ]
     },
     "metadata": {},
     "output_type": "display_data"
    }
   ],
   "source": [
    "best_t = find_best_threshold(te_thresholds, test_fpr, test_tpr)\n",
    "cm=metrics.confusion_matrix(y_test,predict_with_best_t(y_test_probs, best_t))\n",
    "  \n",
    "print(\"CONFUSION MATRIX OF TEST DATA\")\n",
    "print('\\n')\n",
    "print(cm)\n",
    "sns.heatmap(cm, annot=True, fmt='d',cmap='GnBu')"
   ]
  },
  {
   "cell_type": "markdown",
   "metadata": {},
   "source": [
    "### Top 20 features from set-1"
   ]
  },
  {
   "cell_type": "code",
   "execution_count": 96,
   "metadata": {},
   "outputs": [],
   "source": [
    "from scipy.sparse import hstack\n",
    "X_tr_set_one = hstack((X_train_essay_bow, X_train_state_ohe, X_train_teacher_ohe, X_train_grade_ohe, X_train_price_norm,X_train_category_ohe,X_train_subcategory_ohe,X_train_submission_norm )).tocsr()\n",
    "#X_cr_set_one= hstack((X_cv_essay_bow, X_cv_state_ohe, X_cv_teacher_ohe, X_cv_grade_ohe, X_cv_price_norm,X_cv_category_ohe,X_cv_subcategory_ohe,X_cv_submission_norm)).tocsr()\n",
    "X_te_set_one = hstack((X_test_essay_bow, X_test_state_ohe, X_test_teacher_ohe, X_test_grade_ohe, X_test_price_norm,X_test_category_ohe,X_test_subcategory_ohe,X_test_submission_norm)).tocsr()"
   ]
  },
  {
   "cell_type": "code",
   "execution_count": 97,
   "metadata": {},
   "outputs": [],
   "source": [
    "features=[]\n",
    "for fe in vectorizer_bow.get_feature_names() :\n",
    "    features.append(fe)\n",
    "    \n",
    "for fe in vectorizer_state.get_feature_names() :\n",
    "    features.append(fe)\n",
    "    \n",
    "for fe in vectorizer_prefix.get_feature_names() :  # adding all features into list as the order of data frame\n",
    "    features.append(fe)\n",
    "    \n",
    "for fe in vectorizer_grade.get_feature_names() :\n",
    "    features.append(fe)\n",
    "    \n",
    "features.append(\"price\")\n",
    "\n",
    "for fe in vectorizer_category.get_feature_names() :\n",
    "    features.append(fe)\n",
    "    \n",
    "for fe in vectorizer_sub.get_feature_names() :\n",
    "    features.append(fe)\n",
    "    \n",
    "features.append(\"teacher_number_of_previously_posted_projects\")\n",
    "    "
   ]
  },
  {
   "cell_type": "code",
   "execution_count": 98,
   "metadata": {},
   "outputs": [],
   "source": [
    "class_0=model_set1.feature_log_prob_[0, :].argsort()   # finding probability and making argsort for each class\n",
    "class_1=model_set1.feature_log_prob_[1, :].argsort()    \n",
    "#https://stackoverflow.com/questions/50526898/how-to-get-feature-importance-in-naive-bayes"
   ]
  },
  {
   "cell_type": "code",
   "execution_count": 99,
   "metadata": {},
   "outputs": [
    {
     "name": "stdout",
     "output_type": "stream",
     "text": [
      "top 20 features of class_0\n",
      "================================================================================\n",
      "['able' 'reading' 'love' 'come' 'work' 'need' 'we' 'many' 'nannan'\n",
      " 'my students' 'the' 'help' 'they' 'learn' 'not' 'classroom' 'my'\n",
      " 'learning' 'school' 'students']\n"
     ]
    }
   ],
   "source": [
    "print(\"top 20 features of class_0\")\n",
    "print(\"=\"*80)\n",
    "print(np.take(features, class_0[-20:])) # since argsort is asscending order"
   ]
  },
  {
   "cell_type": "code",
   "execution_count": 100,
   "metadata": {},
   "outputs": [
    {
     "name": "stdout",
     "output_type": "stream",
     "text": [
      "top 20 features of class_1\n",
      "================================================================================\n",
      "['day' 'love' 'use' 'reading' 'work' 'need' 'we' 'nannan' 'many' 'help'\n",
      " 'learn' 'my students' 'not' 'they' 'the' 'classroom' 'learning' 'my'\n",
      " 'school' 'students']\n"
     ]
    }
   ],
   "source": [
    "print(\"top 20 features of class_1\")\n",
    "print(\"=\"*80)\n",
    "print(np.take(features, class_1[-20:]))"
   ]
  },
  {
   "cell_type": "markdown",
   "metadata": {},
   "source": [
    "### Summary"
   ]
  },
  {
   "cell_type": "code",
   "execution_count": 102,
   "metadata": {},
   "outputs": [
    {
     "name": "stdout",
     "output_type": "stream",
     "text": [
      "+------------+-------------+-----------------+----------+\n",
      "| Vectorizer |    Model    | Hyper Parameter | Test-AUC |\n",
      "+------------+-------------+-----------------+----------+\n",
      "|    BOW     | Naive Bayes |      1e-05      |   0.69   |\n",
      "|   TFIDF    | Naive Bayes |      1e-05      |  0.676   |\n",
      "+------------+-------------+-----------------+----------+\n"
     ]
    }
   ],
   "source": [
    "from prettytable import PrettyTable\n",
    "table=PrettyTable()\n",
    "table.field_names = [\"Vectorizer\", \"Model\", \"Hyper Parameter\", \"Test-AUC\"] # # http://zetcode.com/python/prettytable/\n",
    "table.add_row([\"BOW\", \"Naive Bayes\", 1e-05, 0.690])\n",
    "table.add_row([\"TFIDF\", \"Naive Bayes\", 1e-05, 0.676])\n",
    "print(table)"
   ]
  }
 ],
 "metadata": {
  "kernelspec": {
   "display_name": "Python 3",
   "language": "python",
   "name": "python3"
  },
  "language_info": {
   "codemirror_mode": {
    "name": "ipython",
    "version": 3
   },
   "file_extension": ".py",
   "mimetype": "text/x-python",
   "name": "python",
   "nbconvert_exporter": "python",
   "pygments_lexer": "ipython3",
   "version": "3.6.5"
  }
 },
 "nbformat": 4,
 "nbformat_minor": 2
}
